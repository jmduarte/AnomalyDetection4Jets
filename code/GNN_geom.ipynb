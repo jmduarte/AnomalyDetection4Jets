{
 "cells": [
  {
   "cell_type": "code",
   "execution_count": 1,
   "metadata": {},
   "outputs": [
    {
     "ename": "ModuleNotFoundError",
     "evalue": "No module named 'torch'",
     "output_type": "error",
     "traceback": [
      "\u001b[0;31m---------------------------------------------------------------------------\u001b[0m",
      "\u001b[0;31mModuleNotFoundError\u001b[0m                       Traceback (most recent call last)",
      "\u001b[0;32m<ipython-input-1-27e5d90a1390>\u001b[0m in \u001b[0;36m<module>\u001b[0;34m\u001b[0m\n\u001b[1;32m      2\u001b[0m \u001b[0;32mimport\u001b[0m \u001b[0mnumpy\u001b[0m \u001b[0;32mas\u001b[0m \u001b[0mnp\u001b[0m\u001b[0;34m\u001b[0m\u001b[0;34m\u001b[0m\u001b[0m\n\u001b[1;32m      3\u001b[0m \u001b[0;32mimport\u001b[0m \u001b[0mtqdm\u001b[0m\u001b[0;34m\u001b[0m\u001b[0;34m\u001b[0m\u001b[0m\n\u001b[0;32m----> 4\u001b[0;31m \u001b[0;32mimport\u001b[0m \u001b[0mtorch\u001b[0m\u001b[0;34m\u001b[0m\u001b[0;34m\u001b[0m\u001b[0m\n\u001b[0m\u001b[1;32m      5\u001b[0m \u001b[0;32mfrom\u001b[0m \u001b[0mpyjet\u001b[0m \u001b[0;32mimport\u001b[0m \u001b[0mcluster\u001b[0m\u001b[0;34m,\u001b[0m\u001b[0mDTYPE_PTEPM\u001b[0m\u001b[0;34m\u001b[0m\u001b[0;34m\u001b[0m\u001b[0m\n\u001b[1;32m      6\u001b[0m \u001b[0;32mimport\u001b[0m \u001b[0mmath\u001b[0m\u001b[0;34m\u001b[0m\u001b[0;34m\u001b[0m\u001b[0m\n",
      "\u001b[0;31mModuleNotFoundError\u001b[0m: No module named 'torch'"
     ]
    }
   ],
   "source": [
    "import pandas as pd\n",
    "import numpy as np\n",
    "import tqdm\n",
    "import torch\n",
    "from pyjet import cluster,DTYPE_PTEPM\n",
    "import math"
   ]
  },
  {
   "cell_type": "markdown",
   "metadata": {},
   "source": [
    "# Pre processing + Define Model"
   ]
  },
  {
   "cell_type": "code",
   "execution_count": 2,
   "metadata": {},
   "outputs": [
    {
     "ename": "ModuleNotFoundError",
     "evalue": "No module named 'torch'",
     "output_type": "error",
     "traceback": [
      "\u001b[0;31m---------------------------------------------------------------------------\u001b[0m",
      "\u001b[0;31mModuleNotFoundError\u001b[0m                       Traceback (most recent call last)",
      "\u001b[0;32m<ipython-input-2-cd2d8db15982>\u001b[0m in \u001b[0;36m<module>\u001b[0;34m\u001b[0m\n\u001b[0;32m----> 1\u001b[0;31m \u001b[0;32mimport\u001b[0m \u001b[0mtorch\u001b[0m\u001b[0;34m\u001b[0m\u001b[0;34m\u001b[0m\u001b[0m\n\u001b[0m\u001b[1;32m      2\u001b[0m \u001b[0;32mimport\u001b[0m \u001b[0mtorch\u001b[0m\u001b[0;34m.\u001b[0m\u001b[0mnn\u001b[0m \u001b[0;32mas\u001b[0m \u001b[0mnn\u001b[0m\u001b[0;34m\u001b[0m\u001b[0;34m\u001b[0m\u001b[0m\n\u001b[1;32m      3\u001b[0m \u001b[0;32mimport\u001b[0m \u001b[0mtorch\u001b[0m\u001b[0;34m.\u001b[0m\u001b[0mnn\u001b[0m\u001b[0;34m.\u001b[0m\u001b[0mfunctional\u001b[0m \u001b[0;32mas\u001b[0m \u001b[0mF\u001b[0m\u001b[0;34m\u001b[0m\u001b[0;34m\u001b[0m\u001b[0m\n\u001b[1;32m      4\u001b[0m \u001b[0;32mimport\u001b[0m \u001b[0mtorch_geometric\u001b[0m\u001b[0;34m.\u001b[0m\u001b[0mtransforms\u001b[0m \u001b[0;32mas\u001b[0m \u001b[0mT\u001b[0m\u001b[0;34m\u001b[0m\u001b[0;34m\u001b[0m\u001b[0m\n\u001b[1;32m      5\u001b[0m \u001b[0;32mfrom\u001b[0m \u001b[0mtorch_geometric\u001b[0m\u001b[0;34m.\u001b[0m\u001b[0mnn\u001b[0m \u001b[0;32mimport\u001b[0m \u001b[0mEdgeConv\u001b[0m\u001b[0;34m,\u001b[0m \u001b[0mglobal_mean_pool\u001b[0m\u001b[0;34m\u001b[0m\u001b[0;34m\u001b[0m\u001b[0m\n",
      "\u001b[0;31mModuleNotFoundError\u001b[0m: No module named 'torch'"
     ]
    }
   ],
   "source": [
    "import torch\n",
    "import torch.nn as nn\n",
    "import torch.nn.functional as F\n",
    "import torch_geometric.transforms as T\n",
    "from torch_geometric.nn import EdgeConv, global_mean_pool\n",
    "\n",
    "class EdgeNet(nn.Module):\n",
    "    def __init__(self, input_dim=4, big_dim=32, hidden_dim=2, aggr='mean'):\n",
    "        super(EdgeNet, self).__init__()\n",
    "        encoder_nn = nn.Sequential(nn.Linear(2*(input_dim), big_dim),\n",
    "                               nn.ReLU(),\n",
    "                               nn.Linear(big_dim, big_dim),\n",
    "                               nn.ReLU(),\n",
    "                               nn.Linear(big_dim, hidden_dim),\n",
    "                               nn.ReLU(),\n",
    "        )\n",
    "        \n",
    "        decoder_nn = nn.Sequential(nn.Linear(2*(hidden_dim), big_dim),\n",
    "                               nn.ReLU(),\n",
    "                               nn.Linear(big_dim, big_dim),\n",
    "                               nn.ReLU(),\n",
    "                               nn.Linear(big_dim, input_dim)\n",
    "        )\n",
    "        \n",
    "        self.batchnorm = nn.BatchNorm1d(input_dim)\n",
    "\n",
    "        self.encoder = EdgeConv(nn=encoder_nn,aggr=aggr)\n",
    "        self.decoder = EdgeConv(nn=decoder_nn,aggr=aggr)\n",
    "\n",
    "    def forward(self, data):\n",
    "        data.x = self.batchnorm(data.x)\n",
    "        data.x = self.encoder(data.x,data.edge_index)\n",
    "        data.x = self.decoder(data.x,data.edge_index)\n",
    "        return data.x"
   ]
  },
  {
   "cell_type": "code",
   "execution_count": null,
   "metadata": {},
   "outputs": [],
   "source": [
    "import torch\n",
    "from torch_geometric.data import Data, DataLoader\n",
    "import os\n",
    "import os.path as osp\n",
    "import math\n",
    "import argparse\n",
    "import torch.nn.functional as F\n",
    "import matplotlib.pyplot as plt\n",
    "from sklearn.metrics import roc_curve, auc\n",
    "from graph_data import GraphDataset\n",
    "\n",
    "gdata = GraphDataset(root='/anomalyvol/data/gnn_geom')\n",
    "\n",
    "input_dim = 4\n",
    "big_dim = 32\n",
    "hidden_dim = 2\n",
    "fulllen = len(gdata)\n",
    "tv_frac = 0.10\n",
    "tv_num = math.ceil(fulllen*tv_frac)\n",
    "splits = np.cumsum([fulllen-2*tv_num,tv_num,tv_num])\n",
    "batch_size = 512\n",
    "n_epochs = 1\n",
    "lr = 0.001\n",
    "patience = 10\n",
    "device = 'cuda:0'\n",
    "model_fname = 'EdgeNet'\n",
    "\n",
    "model = EdgeNet(input_dim=input_dim, big_dim=big_dim, hidden_dim=hidden_dim).to(device)\n",
    "optimizer = torch.optim.Adam(model.parameters(), lr = lr)"
   ]
  },
  {
   "cell_type": "code",
   "execution_count": null,
   "metadata": {},
   "outputs": [],
   "source": [
    "train_dataset = GraphDataset(root='/anomalyvol/data/gnn_geom',start=0,stop=splits[0])\n",
    "valid_dataset = GraphDataset(root='/anomalyvol/data/gnn_geom',start=splits[1],stop=splits[2])\n",
    "test_dataset = GraphDataset(root='/anomalyvol/data/gnn_geom',start=splits[0 ],stop=splits[1])\n",
    "\n",
    "train_loader = DataLoader(train_dataset, batch_size=batch_size, pin_memory=True, shuffle=True)\n",
    "valid_loader = DataLoader(valid_dataset, batch_size=batch_size, pin_memory=True, shuffle=False)\n",
    "test_loader = DataLoader(test_dataset, batch_size=batch_size, pin_memory=True, shuffle=False)\n",
    "\n",
    "train_samples = len(train_dataset)\n",
    "valid_samples = len(valid_dataset)\n",
    "test_samples = len(test_dataset)\n",
    "\n",
    "print(train_samples)\n",
    "print(valid_samples)\n",
    "print(test_samples)"
   ]
  },
  {
   "cell_type": "code",
   "execution_count": null,
   "metadata": {},
   "outputs": [],
   "source": [
    "@torch.no_grad()\n",
    "def test(model,loader,total,batch_size):\n",
    "    model.eval()\n",
    "    \n",
    "    mse = nn.MSELoss(reduction='mean')\n",
    "\n",
    "    sum_loss = 0.\n",
    "    t = tqdm.tqdm(enumerate(loader),total=total/batch_size)\n",
    "    for i,data in t:\n",
    "        data = data.to(device)\n",
    "        batch_output = model(data)\n",
    "        batch_loss_item = mse(batch_output, data.y).item()\n",
    "        sum_loss += batch_loss_item\n",
    "        t.set_description(\"loss = %.5f\" % (batch_loss_item))\n",
    "        t.refresh() # to show immediately the update\n",
    "\n",
    "    return sum_loss/(i+1)\n",
    "\n",
    "def train(model, optimizer, loader, total, batch_size):\n",
    "    model.train()\n",
    "    \n",
    "    mse = nn.MSELoss(reduction='mean')\n",
    "\n",
    "    sum_loss = 0.\n",
    "    t = tqdm.tqdm(enumerate(loader),total=total/batch_size)\n",
    "    for i,data in t:\n",
    "        data = data.to(device)\n",
    "        optimizer.zero_grad()\n",
    "        batch_output = model(data)\n",
    "        batch_loss = mse(batch_output, data.y)\n",
    "        batch_loss.backward()\n",
    "        batch_loss_item = batch_loss.item()\n",
    "        t.set_description(\"loss = %.5f\" % batch_loss_item)\n",
    "        t.refresh() # to show immediately the update\n",
    "        sum_loss += batch_loss_item\n",
    "        optimizer.step()\n",
    "    \n",
    "    return sum_loss/(i+1)"
   ]
  },
  {
   "cell_type": "code",
   "execution_count": null,
   "metadata": {},
   "outputs": [],
   "source": [
    "modpath = osp.join('/anomalyvol/models/gnn/',model_fname+'.best.pth')"
   ]
  },
  {
   "cell_type": "code",
   "execution_count": null,
   "metadata": {
    "scrolled": true
   },
   "outputs": [],
   "source": [
    "# stale_epochs = 0\n",
    "# best_valid_loss = 99999\n",
    "# for epoch in range(0, n_epochs):\n",
    "#     loss = train(model, optimizer, train_loader, train_samples, batch_size)\n",
    "#     valid_loss = test(model, valid_loader, valid_samples, batch_size)\n",
    "#     print('Epoch: {:02d}, Training Loss:   {:.4f}'.format(epoch, loss))\n",
    "#     print('               Validation Loss: {:.4f}'.format(valid_loss))\n",
    "\n",
    "#     if valid_loss < best_valid_loss:\n",
    "#         best_valid_loss = valid_loss\n",
    "#         modpath = osp.join('/anomalyvol/models/gnn/',model_fname+'.best.pth')\n",
    "#         print('New best model saved to:',modpath)\n",
    "#         torch.save(model.state_dict(),modpath)\n",
    "#         stale_epochs = 0\n",
    "#     else:\n",
    "#         print('Stale epoch')\n",
    "#         stale_epochs += 1\n",
    "#     if stale_epochs >= patience:\n",
    "#         print('Early stopping after %i stale epochs'%patience)\n",
    "#         break"
   ]
  },
  {
   "cell_type": "code",
   "execution_count": null,
   "metadata": {},
   "outputs": [],
   "source": [
    "model.load_state_dict(torch.load(modpath))\n",
    "input_x = []\n",
    "output_x = []\n",
    "\n",
    "t = tqdm.tqdm(enumerate(test_loader),total=test_samples/batch_size)\n",
    "for i, data in t:\n",
    "    data[0].to(device)\n",
    "    input_x.append(data[0].x.cpu().numpy())\n",
    "    output_x.append(model(data[0]).cpu().detach().numpy())\n",
    "    del data\n",
    "    torch.cuda.empty_cache()"
   ]
  },
  {
   "cell_type": "markdown",
   "metadata": {},
   "source": [
    "# Visualize"
   ]
  },
  {
   "cell_type": "code",
   "execution_count": null,
   "metadata": {},
   "outputs": [],
   "source": [
    "def in_out_diff_append(diff, output, inputs, i, ft_idx): # helper for appending 3 lists\n",
    "    diff.append(((output_x[i][:,ft_idx]-input_x[i][:,ft_idx])/input_x[i][:,ft_idx]).flatten())\n",
    "    output.append(output_x[i][:,ft_idx].flatten())\n",
    "    inputs.append(input_x[i][:,ft_idx].flatten())\n",
    "\n",
    "def in_out_diff_concat(diff, output, inputs):\n",
    "    diff = np.concatenate(diff)\n",
    "    output = np.concatenate(output)\n",
    "    inputs = np.concatenate(inputs)\n",
    "    return [diff, output, inputs]\n",
    "\n",
    "def make_hists(diff, output, inputs, bin1):\n",
    "    plt.figure()\n",
    "    plt.hist(inputs, bins=bin1,alpha=0.5)\n",
    "    plt.hist(output, bins=bin1,alpha=0.5)\n",
    "    plt.show()\n",
    "\n",
    "    plt.figure()\n",
    "    plt.hist(diff, bins=np.linspace(-5, 5, 101))\n",
    "    plt.show()"
   ]
  },
  {
   "cell_type": "code",
   "execution_count": null,
   "metadata": {
    "scrolled": true
   },
   "outputs": [],
   "source": [
    "diff_px = []\n",
    "output_px = []\n",
    "input_px = []\n",
    "diff_py = []\n",
    "output_py = []\n",
    "input_py = []\n",
    "diff_pz = []\n",
    "output_pz = []\n",
    "input_pz = []\n",
    "diff_e = []\n",
    "output_e = []\n",
    "input_e = []\n",
    "\n",
    "# get output in readable format\n",
    "for i in range(len(input_x)):\n",
    "    # px\n",
    "    in_out_diff_append(diff_px, output_px, input_px, i, 0)\n",
    "    in_out_diff_append(diff_py, output_py, input_py, i, 1)\n",
    "    in_out_diff_append(diff_pz, output_pz, input_pz, i, 2)\n",
    "    in_out_diff_append(diff_e, output_e, input_e, i, 3)\n",
    "\n",
    "# remove extra brackets\n",
    "diff_px, output_px, input_px = in_out_diff_concat(diff_px, output_px, input_px)\n",
    "diff_py, output_py, input_py = in_out_diff_concat(diff_py, output_py, input_py)\n",
    "diff_pz, output_pz, input_pz = in_out_diff_concat(diff_pz, output_pz, input_pz)\n",
    "diff_e, output_e, input_e = in_out_diff_concat(diff_e, output_e, input_e)\n",
    "\n",
    "print(\"px\")\n",
    "bins = np.linspace(-40, 40, 101)\n",
    "make_hists(diff_px, output_px, input_px, bins)\n",
    "\n",
    "print(\"py\")\n",
    "make_hists(diff_py, output_py, input_py, bins)\n",
    "\n",
    "print(\"pz\")\n",
    "make_hists(diff_pz, output_pz, input_pz, bins)\n",
    "\n",
    "print(\"e\")\n",
    "bins = np.linspace(-5, 40, 101)\n",
    "make_hists(diff_e, output_e, input_e, bins)"
   ]
  },
  {
   "cell_type": "markdown",
   "metadata": {},
   "source": [
    "# Bump Hunt"
   ]
  },
  {
   "cell_type": "code",
   "execution_count": null,
   "metadata": {},
   "outputs": [],
   "source": [
    "# get losses \n",
    "losses = []\n",
    "event_idx = []\n",
    "model.eval()\n",
    "mse = nn.MSELoss(reduction='mean')\n",
    "num_exceptions = 0\n",
    "\n",
    "t = tqdm.tqdm(enumerate(gdata))\n",
    "for i, data in t:\n",
    "    event = data[1]\n",
    "    try:\n",
    "        with torch.no_grad():\n",
    "            data = data[0].to(device)\n",
    "            batch_output = model(data)\n",
    "            batch_loss_item = mse(batch_output, data.y).item()\n",
    "            losses.append(batch_loss_item)\n",
    "    except:\n",
    "        num_exceptions += 1\n",
    "        losses.append(0)\n",
    "\n",
    "    event_idx.append(event)"
   ]
  },
  {
   "cell_type": "code",
   "execution_count": null,
   "metadata": {},
   "outputs": [],
   "source": [
    "cut = 0.95\n",
    "mse_thresh = np.quantile(losses, cut)\n",
    "outliers = losses > mse_thresh\n",
    "d = {'mass':masses, 'outlier':outliers, 'event':event_idx}\n",
    "df = pd.DataFrame(d)\n",
    "# outlier_mass = np.array([x[0] for x in mass_outliers if x[1] == True])\n",
    "# all_mass = np.array(masses)"
   ]
  },
  {
   "cell_type": "code",
   "execution_count": null,
   "metadata": {},
   "outputs": [],
   "source": [
    "outlier_mass = []\n",
    "# group by event\n",
    "# if one of leading 2 jets is outlier then get dijet invariant mass\n",
    "for event, group in df.groupby(['event']):\n",
    "    if group[0].outlier == True or group[1].outlier == True:\n",
    "        \n"
   ]
  },
  {
   "cell_type": "code",
   "execution_count": null,
   "metadata": {},
   "outputs": [],
   "source": [
    "# bins = np.linspace(0, 1000, 51)\n",
    "# weights = np.ones_like(outlier_mass) / len(outlier_mass)\n",
    "# plt.hist(outlier_mass, alpha = 0.5, bins=bins, weights=weights)\n",
    "# weights = np.ones_like(all_mass) / len(all_mass)\n",
    "# plt.hist(all_mass, alpha = 0.5, bins=bins, weights=weights)\n",
    "# plt.show()"
   ]
  }
 ],
 "metadata": {
  "kernelspec": {
   "display_name": "Python 3",
   "language": "python",
   "name": "python3"
  },
  "language_info": {
   "codemirror_mode": {
    "name": "ipython",
    "version": 3
   },
   "file_extension": ".py",
   "mimetype": "text/x-python",
   "name": "python",
   "nbconvert_exporter": "python",
   "pygments_lexer": "ipython3",
   "version": "3.7.6"
  }
 },
 "nbformat": 4,
 "nbformat_minor": 4
}
