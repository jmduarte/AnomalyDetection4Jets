{
 "cells": [
  {
   "cell_type": "code",
   "execution_count": 1,
   "metadata": {},
   "outputs": [],
   "source": [
    "import pandas as pd\n",
    "import numpy as np\n",
    "import tqdm\n",
    "import torch"
   ]
  },
  {
   "cell_type": "markdown",
   "metadata": {},
   "source": [
    "# Pre processing"
   ]
  },
  {
   "cell_type": "code",
   "execution_count": 2,
   "metadata": {},
   "outputs": [],
   "source": [
    "import torch\n",
    "import torch.nn as nn\n",
    "import torch.nn.functional as F\n",
    "import torch_geometric.transforms as T\n",
    "from torch_geometric.nn import EdgeConv, global_mean_pool\n",
    "\n",
    "class EdgeNet(nn.Module):\n",
    "    def __init__(self, input_dim=4, big_dim=32, hidden_dim=2, aggr='mean'):\n",
    "        super(EdgeNet, self).__init__()\n",
    "        encoder_nn = nn.Sequential(nn.Linear(2*(input_dim), big_dim),\n",
    "                               nn.ReLU(),\n",
    "                               nn.Linear(big_dim, big_dim),\n",
    "                               nn.ReLU(),\n",
    "                               nn.Linear(big_dim, hidden_dim),\n",
    "                               nn.ReLU(),\n",
    "        )\n",
    "        \n",
    "        decoder_nn = nn.Sequential(nn.Linear(2*(hidden_dim), big_dim),\n",
    "                               nn.ReLU(),\n",
    "                               nn.Linear(big_dim, big_dim),\n",
    "                               nn.ReLU(),\n",
    "                               nn.Linear(big_dim, input_dim)\n",
    "        )\n",
    "        \n",
    "        self.batchnorm = nn.BatchNorm1d(input_dim)\n",
    "\n",
    "        self.encoder = EdgeConv(nn=encoder_nn,aggr=aggr)\n",
    "        self.decoder = EdgeConv(nn=decoder_nn,aggr=aggr)\n",
    "\n",
    "    def forward(self, data):\n",
    "        data.x = self.batchnorm(data.x)\n",
    "        data.x = self.encoder(data.x,data.edge_index)\n",
    "        data.x = self.decoder(data.x,data.edge_index)\n",
    "        return data.x"
   ]
  },
  {
   "cell_type": "code",
   "execution_count": 3,
   "metadata": {},
   "outputs": [],
   "source": [
    "import torch\n",
    "from torch_geometric.data import Data, DataLoader\n",
    "import os\n",
    "import os.path as osp\n",
    "import math\n",
    "import argparse\n",
    "import torch.nn.functional as F\n",
    "import matplotlib.pyplot as plt\n",
    "from sklearn.metrics import roc_curve, auc\n",
    "from graph_data import GraphDataset\n",
    "\n",
    "gdata = GraphDataset(root='/anomalyvol/data/')\n",
    "\n",
    "input_dim = 4\n",
    "big_dim = 32\n",
    "hidden_dim = 2\n",
    "fulllen = len(gdata)\n",
    "tv_frac = 0.10\n",
    "tv_num = math.ceil(fulllen*tv_frac)\n",
    "splits = np.cumsum([fulllen-2*tv_num,tv_num,tv_num])\n",
    "batch_size = 512\n",
    "n_epochs = 1\n",
    "lr = 0.001\n",
    "patience = 10\n",
    "device = 'cuda:0'\n",
    "model_fname = 'EdgeNet'\n",
    "\n",
    "model = EdgeNet(input_dim=input_dim, big_dim=big_dim, hidden_dim=hidden_dim).to(device)\n",
    "optimizer = torch.optim.Adam(model.parameters(), lr = lr)"
   ]
  },
  {
   "cell_type": "code",
   "execution_count": 4,
   "metadata": {},
   "outputs": [
    {
     "name": "stdout",
     "output_type": "stream",
     "text": [
      "24043\n",
      "2405\n",
      "2405\n"
     ]
    }
   ],
   "source": [
    "train_dataset = GraphDataset(root='/anomalyvol/data/',start=0,stop=splits[0])\n",
    "valid_dataset = GraphDataset(root='/anomalyvol/data/',start=splits[1],stop=splits[2])\n",
    "test_dataset = GraphDataset(root='/anomalyvol/data/',start=splits[0 ],stop=splits[1])\n",
    "\n",
    "train_loader = DataLoader(train_dataset, batch_size=batch_size, pin_memory=True, shuffle=True)\n",
    "valid_loader = DataLoader(valid_dataset, batch_size=batch_size, pin_memory=True, shuffle=False)\n",
    "test_loader = DataLoader(test_dataset, batch_size=batch_size, pin_memory=True, shuffle=False)\n",
    "\n",
    "train_samples = len(train_dataset)\n",
    "valid_samples = len(valid_dataset)\n",
    "test_samples = len(test_dataset)\n",
    "\n",
    "print(train_samples)\n",
    "print(valid_samples)\n",
    "print(test_samples)"
   ]
  },
  {
   "cell_type": "code",
   "execution_count": 5,
   "metadata": {},
   "outputs": [],
   "source": [
    "@torch.no_grad()\n",
    "def test(model,loader,total,batch_size):\n",
    "    model.eval()\n",
    "    \n",
    "    mse = nn.MSELoss(reduction='mean')\n",
    "\n",
    "    sum_loss = 0.\n",
    "    t = tqdm.tqdm(enumerate(loader),total=total/batch_size)\n",
    "    for i,data in t:\n",
    "        data = data.to(device)\n",
    "        batch_output = model(data)\n",
    "        batch_loss_item = mse(batch_output, data.y).item()\n",
    "        sum_loss += batch_loss_item\n",
    "        t.set_description(\"loss = %.5f\" % (batch_loss_item))\n",
    "        t.refresh() # to show immediately the update\n",
    "\n",
    "    return sum_loss/(i+1)\n",
    "\n",
    "def train(model, optimizer, loader, total, batch_size):\n",
    "    model.train()\n",
    "    \n",
    "    mse = nn.MSELoss(reduction='mean')\n",
    "\n",
    "    sum_loss = 0.\n",
    "    t = tqdm.tqdm(enumerate(loader),total=total/batch_size)\n",
    "    for i,data in t:\n",
    "        data = data.to(device)\n",
    "        optimizer.zero_grad()\n",
    "        batch_output = model(data)\n",
    "        batch_loss = mse(batch_output, data.y)\n",
    "        batch_loss.backward()\n",
    "        batch_loss_item = batch_loss.item()\n",
    "        t.set_description(\"loss = %.5f\" % batch_loss_item)\n",
    "        t.refresh() # to show immediately the update\n",
    "        sum_loss += batch_loss_item\n",
    "        optimizer.step()\n",
    "    \n",
    "    return sum_loss/(i+1)"
   ]
  },
  {
   "cell_type": "code",
   "execution_count": 6,
   "metadata": {},
   "outputs": [],
   "source": [
    "n_epochs = 50\n",
    "modpath = osp.join('/anomalyvol/models/gnn/',model_fname+'.best.pth')"
   ]
  },
  {
   "cell_type": "code",
   "execution_count": null,
   "metadata": {
    "scrolled": false
   },
   "outputs": [],
   "source": [
    "stale_epochs = 0\n",
    "best_valid_loss = 99999\n",
    "for epoch in range(0, n_epochs):\n",
    "    loss = train(model, optimizer, train_loader, train_samples, batch_size)\n",
    "    valid_loss = test(model, valid_loader, valid_samples, batch_size)\n",
    "    print('Epoch: {:02d}, Training Loss:   {:.4f}'.format(epoch, loss))\n",
    "    print('               Validation Loss: {:.4f}'.format(valid_loss))\n",
    "\n",
    "    if valid_loss < best_valid_loss:\n",
    "        best_valid_loss = valid_loss\n",
    "        modpath = osp.join('/anomalyvol/models/gnn/',model_fname+'.best.pth')\n",
    "        print('New best model saved to:',modpath)\n",
    "        torch.save(model.state_dict(),modpath)\n",
    "        stale_epochs = 0\n",
    "    else:\n",
    "        print('Stale epoch')\n",
    "        stale_epochs += 1\n",
    "    if stale_epochs >= patience:\n",
    "        print('Early stopping after %i stale epochs'%patience)\n",
    "        break"
   ]
  },
  {
   "cell_type": "code",
   "execution_count": 7,
   "metadata": {},
   "outputs": [
    {
     "name": "stderr",
     "output_type": "stream",
     "text": [
      " 85%|████████▌ | 4/4.697265625 [01:46<00:18, 26.97s/it]/opt/conda/lib/python3.7/site-packages/tqdm/std.py:484: TqdmWarning: clamping frac to range [0, 1]\n",
      "  charset=Bar.ASCII if ascii is True else ascii or Bar.UTF)\n",
      "106%|██████████| 5/4.697265625 [02:03<-1:59:53, 24.74s/it]\n"
     ]
    }
   ],
   "source": [
    "model.load_state_dict(torch.load(modpath))\n",
    "input_x = []\n",
    "output_x = []\n",
    "\n",
    "t = tqdm.tqdm(enumerate(test_loader),total=test_samples/batch_size)\n",
    "for i, data in t:\n",
    "    data.to(device)\n",
    "    input_x.append(data.x.cpu().numpy())\n",
    "    output_x.append(model(data).cpu().detach().numpy())"
   ]
  },
  {
   "cell_type": "code",
   "execution_count": 17,
   "metadata": {
    "scrolled": false
   },
   "outputs": [
    {
     "name": "stdout",
     "output_type": "stream",
     "text": [
      "(134117,)\n",
      "(134117,)\n",
      "px\n"
     ]
    },
    {
     "data": {
      "image/png": "[encoded data removed]",
      "text/plain": [
       "<Figure size 432x288 with 1 Axes>"
      ]
     },
     "metadata": {
      "needs_background": "light"
     },
     "output_type": "display_data"
    },
    {
     "data": {
      "image/png": "[encoded data removed]",
      "text/plain": [
       "<Figure size 432x288 with 1 Axes>"
      ]
     },
     "metadata": {
      "needs_background": "light"
     },
     "output_type": "display_data"
    },
    {
     "name": "stdout",
     "output_type": "stream",
     "text": [
      "py\n"
     ]
    },
    {
     "data": {
      "image/png": "[encoded data removed]",
      "text/plain": [
       "<Figure size 432x288 with 1 Axes>"
      ]
     },
     "metadata": {
      "needs_background": "light"
     },
     "output_type": "display_data"
    },
    {
     "data": {
      "image/png": "[encoded data removed]",
      "text/plain": [
       "<Figure size 432x288 with 1 Axes>"
      ]
     },
     "metadata": {
      "needs_background": "light"
     },
     "output_type": "display_data"
    },
    {
     "name": "stdout",
     "output_type": "stream",
     "text": [
      "pz\n"
     ]
    },
    {
     "data": {
      "image/png": "[encoded data removed]",
      "text/plain": [
       "<Figure size 432x288 with 1 Axes>"
      ]
     },
     "metadata": {
      "needs_background": "light"
     },
     "output_type": "display_data"
    },
    {
     "data": {
      "image/png": "[encoded data removed]",
      "text/plain": [
       "<Figure size 432x288 with 1 Axes>"
      ]
     },
     "metadata": {
      "needs_background": "light"
     },
     "output_type": "display_data"
    },
    {
     "name": "stdout",
     "output_type": "stream",
     "text": [
      "e\n"
     ]
    },
    {
     "data": {
      "image/png": "[encoded data removed]",
      "text/plain": [
       "<Figure size 432x288 with 1 Axes>"
      ]
     },
     "metadata": {
      "needs_background": "light"
     },
     "output_type": "display_data"
    },
    {
     "data": {
      "image/png": "[encoded data removed]",
      "text/plain": [
       "<Figure size 432x288 with 1 Axes>"
      ]
     },
     "metadata": {
      "needs_background": "light"
     },
     "output_type": "display_data"
    }
   ],
   "source": [
    "diff_px = []\n",
    "output_px = []\n",
    "input_px = []\n",
    "diff_py = []\n",
    "output_py = []\n",
    "input_py = []\n",
    "diff_pz = []\n",
    "output_pz = []\n",
    "input_pz = []\n",
    "diff_e = []\n",
    "output_e = []\n",
    "input_e = []\n",
    "\n",
    "for i in range(len(input_x)):\n",
    "    ft_idx = 0\n",
    "    diff_px.append(((output_x[i][:,ft_idx]-input_x[i][:,ft_idx])/input_x[i][:,ft_idx]).flatten())\n",
    "    output_px.append(output_x[i][:,ft_idx].flatten())\n",
    "    input_px.append(input_x[i][:,ft_idx].flatten())\n",
    "    ft_idx = 1\n",
    "    diff_py.append(((output_x[i][:,ft_idx]-input_x[i][:,ft_idx])/input_x[i][:,ft_idx]).flatten())\n",
    "    output_py.append(output_x[i][:,ft_idx].flatten())\n",
    "    input_py.append(input_x[i][:,ft_idx].flatten())\n",
    "    ft_idx = 2\n",
    "    diff_pz.append(((output_x[i][:,ft_idx]-input_x[i][:,ft_idx])/input_x[i][:,ft_idx]).flatten())\n",
    "    output_pz.append(output_x[i][:,ft_idx].flatten())\n",
    "    input_pz.append(input_x[i][:,ft_idx].flatten())\n",
    "    ft_idx = 3\n",
    "    diff_e.append(((output_x[i][:,ft_idx]-input_x[i][:,ft_idx])/input_x[i][:,ft_idx]).flatten())\n",
    "    output_e.append(output_x[i][:,ft_idx].flatten())\n",
    "    input_e.append(input_x[i][:,ft_idx].flatten())\n",
    "\n",
    "all_diff_px = np.concatenate(diff_px)\n",
    "all_input_px = np.concatenate(input_px)\n",
    "all_output_px = np.concatenate(output_px)\n",
    "all_diff_py = np.concatenate(diff_py)\n",
    "all_input_py = np.concatenate(input_py)\n",
    "all_output_py = np.concatenate(output_py)\n",
    "all_diff_pz = np.concatenate(diff_pz)\n",
    "all_input_pz = np.concatenate(input_pz)\n",
    "all_output_pz = np.concatenate(output_pz)\n",
    "all_diff_e = np.concatenate(diff_e)\n",
    "all_input_e = np.concatenate(input_e)\n",
    "all_output_e = np.concatenate(output_e)\n",
    "\n",
    "print(all_input_px.shape)\n",
    "print(all_output_px.shape)\n",
    "\n",
    "print(\"px\")\n",
    "\n",
    "bins = np.linspace(-40, 40, 101)\n",
    "\n",
    "plt.figure()\n",
    "plt.hist(all_input_px, bins=bins,alpha=0.5)\n",
    "plt.hist(all_output_px, bins=bins,alpha=0.5)\n",
    "plt.show()\n",
    "\n",
    "plt.figure()\n",
    "plt.hist(all_diff_px, bins=np.linspace(-5, 5, 101))\n",
    "plt.show()\n",
    "\n",
    "print(\"py\")\n",
    "\n",
    "plt.figure()\n",
    "plt.hist(all_input_py, bins=bins,alpha=0.5)\n",
    "plt.hist(all_output_py, bins=bins,alpha=0.5)\n",
    "plt.show()\n",
    "\n",
    "plt.figure()\n",
    "plt.hist(all_diff_py, bins=np.linspace(-5, 5, 101))\n",
    "plt.show()\n",
    "\n",
    "print(\"pz\")\n",
    "\n",
    "plt.figure()\n",
    "plt.hist(all_input_pz, bins=bins,alpha=0.5)\n",
    "plt.hist(all_output_pz, bins=bins,alpha=0.5)\n",
    "plt.show()\n",
    "\n",
    "plt.figure()\n",
    "plt.hist(all_diff_pz, bins=np.linspace(-5, 5, 101))\n",
    "plt.show()\n",
    "\n",
    "print(\"e\")\n",
    "\n",
    "bins = np.linspace(-5, 40, 101)\n",
    "\n",
    "plt.figure()\n",
    "plt.hist(all_input_e, bins=bins,alpha=0.5)\n",
    "plt.hist(all_output_e, bins=bins,alpha=0.5)\n",
    "plt.show()\n",
    "\n",
    "plt.figure()\n",
    "plt.hist(all_diff_e, bins=np.linspace(-5, 5, 101))\n",
    "plt.show()"
   ]
  }
 ],
 "metadata": {
  "kernelspec": {
   "display_name": "Python 3",
   "language": "python",
   "name": "python3"
  },
  "language_info": {
   "codemirror_mode": {
    "name": "ipython",
    "version": 3
   },
   "file_extension": ".py",
   "mimetype": "text/x-python",
   "name": "python",
   "nbconvert_exporter": "python",
   "pygments_lexer": "ipython3",
   "version": "3.7.6"
  }
 },
 "nbformat": 4,
 "nbformat_minor": 4
}
