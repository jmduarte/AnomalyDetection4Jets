{
 "cells": [
  {
   "cell_type": "code",
   "execution_count": 1,
   "metadata": {},
   "outputs": [],
   "source": [
    "import pandas as pd\n",
    "import numpy as np\n",
    "import tqdm\n",
    "import torch"
   ]
  },
  {
   "cell_type": "markdown",
   "metadata": {},
   "source": [
    "# Pre processing"
   ]
  },
  {
   "cell_type": "code",
   "execution_count": null,
   "metadata": {},
   "outputs": [],
   "source": [
    "import torch\n",
    "import torch.nn as nn\n",
    "import torch.nn.functional as F\n",
    "import torch_geometric.transforms as T\n",
    "from torch_geometric.nn import EdgeConv, global_mean_pool\n",
    "\n",
    "class EdgeNetPool(nn.Module):\n",
    "    def __init__(self, input_dim=4, big_dim=32, hidden_dim=2, n_particles=100, aggr='mean'):\n",
    "        self.input_dim = input_dim\n",
    "        self.big_dim = big_dim\n",
    "        self.hidden_dim = hidden_dim\n",
    "        self.n_particles = n_particles\n",
    "        self.aggr = aggr\n",
    "        super(EdgeNet, self).__init__()\n",
    "        encoder_nn = nn.Sequential(nn.Linear(2*(self.input_dim), self.big_dim),\n",
    "                               nn.ReLU(),\n",
    "                               nn.Linear(self.big_dim, self.big_dim),\n",
    "                               nn.ReLU(),\n",
    "        )\n",
    "        \n",
    "        decoder_nn = nn.Sequential(nn.Linear(self.n_particles*self.big_dim, self.n_particles*self.big_dim),\n",
    "                               nn.ReLU(),\n",
    "                               nn.Linear(self.n_particles*self.big_dim, self.n_particles*self.input_dim)\n",
    "        )\n",
    "        \n",
    "        self.batchnorm = nn.BatchNorm1d(input_dim)\n",
    "\n",
    "        self.encoder = EdgeConv(nn=encoder_nn,aggr=aggr)\n",
    "        self.decoder = EdgeConv(nn=decoder_nn,aggr=aggr)\n",
    "\n",
    "    def forward(self, data):\n",
    "        data.x = self.batchnorm(data.x)\n",
    "        data.x = self.encoder(data.x,data.edge_index)\n",
    "        data.u = global_mean_pool(data.x)\n",
    "        data.x = torch.reshape(self.decoder(data.u), (self.n_particles, self.input_dim))\n",
    "        return data.x"
   ]
  },
  {
   "cell_type": "code",
   "execution_count": 16,
   "metadata": {},
   "outputs": [],
   "source": [
    "import torch\n",
    "from torch_geometric.data import Data, DataLoader\n",
    "import os\n",
    "import os.path as osp\n",
    "import math\n",
    "import argparse\n",
    "import torch.nn.functional as F\n",
    "import matplotlib.pyplot as plt\n",
    "from sklearn.metrics import roc_curve, auc\n",
    "from graph_data import GraphDataset\n",
    "\n",
    "gdata = GraphDataset(root='/anomalyvol/data/graph100particles',n_particles=100)\n",
    "\n",
    "input_dim = 4\n",
    "big_dim = 32\n",
    "hidden_dim = 2\n",
    "fulllen = len(gdata)\n",
    "tv_frac = 0.10\n",
    "tv_num = math.ceil(fulllen*tv_frac)\n",
    "splits = np.cumsum([fulllen-2*tv_num,tv_num,tv_num])\n",
    "batch_size = 512\n",
    "n_epochs = 1\n",
    "lr = 0.001\n",
    "patience = 10\n",
    "device = 'cuda:0'\n",
    "model_fname = 'EdgeNetPool'\n",
    "\n",
    "model = EdgeNet(input_dim=input_dim, big_dim=big_dim, hidden_dim=hidden_dim).to(device)\n",
    "optimizer = torch.optim.Adam(model.parameters(), lr = lr)"
   ]
  },
  {
   "cell_type": "code",
   "execution_count": 8,
   "metadata": {},
   "outputs": [
    {
     "name": "stdout",
     "output_type": "stream",
     "text": [
      "24043\n",
      "2405\n",
      "2405\n",
      "Data(edge_index=[2, 420], x=[100, 4], y=[100, 4])\n"
     ]
    }
   ],
   "source": [
    "train_dataset = GraphDataset(root='/anomalyvol/data/graph100particles',n_particles=100,start=0,stop=splits[0])\n",
    "valid_dataset = GraphDataset(root='/anomalyvol/data/graph100particles',n_particles=100,start=splits[1],stop=splits[2])\n",
    "test_dataset = GraphDataset(root='/anomalyvol/data/graph100particles',n_particles=100,start=splits[0 ],stop=splits[1])\n",
    "\n",
    "train_loader = DataLoader(train_dataset, batch_size=batch_size, pin_memory=True, shuffle=True)\n",
    "valid_loader = DataLoader(valid_dataset, batch_size=batch_size, pin_memory=True, shuffle=False)\n",
    "test_loader = DataLoader(test_dataset, batch_size=batch_size, pin_memory=True, shuffle=False)\n",
    "\n",
    "train_samples = len(train_dataset)\n",
    "valid_samples = len(valid_dataset)\n",
    "test_samples = len(test_dataset)\n",
    "\n",
    "print(train_samples)\n",
    "print(valid_samples)\n",
    "print(test_samples)\n",
    "print(train_dataset[0])"
   ]
  },
  {
   "cell_type": "code",
   "execution_count": 9,
   "metadata": {},
   "outputs": [],
   "source": [
    "@torch.no_grad()\n",
    "def test(model,loader,total,batch_size):\n",
    "    model.eval()\n",
    "    \n",
    "    mse = nn.MSELoss(reduction='mean')\n",
    "\n",
    "    sum_loss = 0.\n",
    "    t = tqdm.tqdm(enumerate(loader),total=total/batch_size)\n",
    "    for i,data in t:\n",
    "        data = data.to(device)\n",
    "        batch_output = model(data)\n",
    "        batch_loss_item = mse(batch_output, data.y).item()\n",
    "        sum_loss += batch_loss_item\n",
    "        t.set_description(\"loss = %.5f\" % (batch_loss_item))\n",
    "        t.refresh() # to show immediately the update\n",
    "\n",
    "    return sum_loss/(i+1)\n",
    "\n",
    "def train(model, optimizer, loader, total, batch_size):\n",
    "    model.train()\n",
    "    \n",
    "    mse = nn.MSELoss(reduction='mean')\n",
    "\n",
    "    sum_loss = 0.\n",
    "    t = tqdm.tqdm(enumerate(loader),total=total/batch_size)\n",
    "    for i,data in t:\n",
    "        data = data.to(device)\n",
    "        optimizer.zero_grad()\n",
    "        batch_output = model(data)\n",
    "        batch_loss = mse(batch_output, data.y)\n",
    "        batch_loss.backward()\n",
    "        batch_loss_item = batch_loss.item()\n",
    "        t.set_description(\"loss = %.5f\" % batch_loss_item)\n",
    "        t.refresh() # to show immediately the update\n",
    "        sum_loss += batch_loss_item\n",
    "        optimizer.step()\n",
    "    \n",
    "    return sum_loss/(i+1)"
   ]
  },
  {
   "cell_type": "code",
   "execution_count": 10,
   "metadata": {},
   "outputs": [],
   "source": [
    "n_epochs = 20"
   ]
  },
  {
   "cell_type": "code",
   "execution_count": null,
   "metadata": {},
   "outputs": [
    {
     "name": "stderr",
     "output_type": "stream",
     "text": [
      "\r",
      "  0%|          | 0/46.958984375 [00:00<?, ?it/s]"
     ]
    }
   ],
   "source": [
    "stale_epochs = 0\n",
    "best_valid_loss = 99999\n",
    "for epoch in range(0, n_epochs):\n",
    "    loss = train(model, optimizer, train_loader, train_samples, batch_size)\n",
    "    valid_loss = test(model, valid_loader, valid_samples, batch_size)\n",
    "    print('Epoch: {:02d}, Training Loss:   {:.4f}'.format(epoch, loss))\n",
    "    print('               Validation Loss: {:.4f}'.format(valid_loss))\n",
    "\n",
    "    if valid_loss < best_valid_loss:\n",
    "        best_valid_loss = valid_loss\n",
    "        modpath = osp.join('/anomalyvol/models/gnn/',model_fname+'.best.pth')\n",
    "        print('New best model saved to:',modpath)\n",
    "        torch.save(model.state_dict(),modpath)\n",
    "        stale_epochs = 0\n",
    "    else:\n",
    "        print('Stale epoch')\n",
    "        stale_epochs += 1\n",
    "    if stale_epochs >= patience:\n",
    "        print('Early stopping after %i stale epochs'%patience)\n",
    "        break"
   ]
  },
  {
   "cell_type": "code",
   "execution_count": 8,
   "metadata": {},
   "outputs": [
    {
     "name": "stderr",
     "output_type": "stream",
     "text": [
      "106%|██████████| 5/4.697265625 [00:11<00:00,  2.32s/it]\n"
     ]
    }
   ],
   "source": [
    "model.load_state_dict(torch.load(modpath))\n",
    "input_x = []\n",
    "output_x = []\n",
    "\n",
    "t = tqdm.tqdm(enumerate(test_loader),total=test_samples/batch_size)\n",
    "for i, data in t:\n",
    "    data.to(device)\n",
    "    input_x.append(data.x.cpu().numpy())\n",
    "    output_x.append(model(data).cpu().detach().numpy())"
   ]
  },
  {
   "cell_type": "code",
   "execution_count": 37,
   "metadata": {},
   "outputs": [
    {
     "name": "stdout",
     "output_type": "stream",
     "text": [
      "(134117,)\n",
      "(134117,)\n"
     ]
    },
    {
     "data": {
      "text/plain": [
       "(array([0.0000e+00, 1.0000e+00, 0.0000e+00, 0.0000e+00, 0.0000e+00,\n",
       "        0.0000e+00, 1.0000e+00, 0.0000e+00, 0.0000e+00, 0.0000e+00,\n",
       "        0.0000e+00, 0.0000e+00, 2.0000e+00, 0.0000e+00, 1.0000e+00,\n",
       "        0.0000e+00, 1.0000e+00, 1.0000e+00, 3.0000e+00, 2.0000e+00,\n",
       "        1.0000e+00, 1.0000e+00, 2.0000e+00, 4.0000e+00, 4.0000e+00,\n",
       "        6.0000e+00, 6.0000e+00, 4.0000e+00, 1.0000e+01, 1.0000e+01,\n",
       "        1.4000e+01, 1.6000e+01, 1.3000e+01, 2.2000e+01, 3.5000e+01,\n",
       "        2.9000e+01, 5.6000e+01, 5.9000e+01, 9.4000e+01, 1.4400e+02,\n",
       "        1.8900e+02, 3.9100e+02, 7.4300e+02, 1.7850e+03, 3.8930e+03,\n",
       "        6.3450e+03, 8.7110e+03, 1.0683e+04, 1.3712e+04, 1.6029e+04,\n",
       "        1.4285e+04, 1.1533e+04, 9.1660e+03, 7.3700e+03, 5.5000e+03,\n",
       "        4.1620e+03, 3.1280e+03, 2.4760e+03, 1.8040e+03, 1.5170e+03,\n",
       "        1.2370e+03, 1.0060e+03, 8.6800e+02, 7.5700e+02, 5.8600e+02,\n",
       "        5.3700e+02, 4.6000e+02, 3.7800e+02, 3.3400e+02, 2.8700e+02,\n",
       "        2.6200e+02, 2.3100e+02, 2.3400e+02, 1.9600e+02, 2.0900e+02,\n",
       "        1.8800e+02, 1.5400e+02, 1.2800e+02, 1.2000e+02, 9.8000e+01,\n",
       "        1.0400e+02, 8.4000e+01, 1.0900e+02, 8.0000e+01, 8.5000e+01,\n",
       "        6.8000e+01, 8.1000e+01, 7.5000e+01, 5.3000e+01, 6.6000e+01,\n",
       "        5.9000e+01, 4.7000e+01, 3.8000e+01, 5.1000e+01, 4.5000e+01,\n",
       "        3.3000e+01, 5.1000e+01, 4.6000e+01, 2.6000e+01, 3.2000e+01]),\n",
       " array([-5. , -4.9, -4.8, -4.7, -4.6, -4.5, -4.4, -4.3, -4.2, -4.1, -4. ,\n",
       "        -3.9, -3.8, -3.7, -3.6, -3.5, -3.4, -3.3, -3.2, -3.1, -3. , -2.9,\n",
       "        -2.8, -2.7, -2.6, -2.5, -2.4, -2.3, -2.2, -2.1, -2. , -1.9, -1.8,\n",
       "        -1.7, -1.6, -1.5, -1.4, -1.3, -1.2, -1.1, -1. , -0.9, -0.8, -0.7,\n",
       "        -0.6, -0.5, -0.4, -0.3, -0.2, -0.1,  0. ,  0.1,  0.2,  0.3,  0.4,\n",
       "         0.5,  0.6,  0.7,  0.8,  0.9,  1. ,  1.1,  1.2,  1.3,  1.4,  1.5,\n",
       "         1.6,  1.7,  1.8,  1.9,  2. ,  2.1,  2.2,  2.3,  2.4,  2.5,  2.6,\n",
       "         2.7,  2.8,  2.9,  3. ,  3.1,  3.2,  3.3,  3.4,  3.5,  3.6,  3.7,\n",
       "         3.8,  3.9,  4. ,  4.1,  4.2,  4.3,  4.4,  4.5,  4.6,  4.7,  4.8,\n",
       "         4.9,  5. ]),\n",
       " <BarContainer object of 100 artists>)"
      ]
     },
     "execution_count": 37,
     "metadata": {},
     "output_type": "execute_result"
    },
    {
     "data": {
      "image/png": "[encoded data removed]",
      "text/plain": [
       "<Figure size 432x288 with 1 Axes>"
      ]
     },
     "metadata": {
      "needs_background": "light"
     },
     "output_type": "display_data"
    },
    {
     "data": {
      "image/png": "[encoded data removed]",
      "text/plain": [
       "<Figure size 432x288 with 1 Axes>"
      ]
     },
     "metadata": {
      "needs_background": "light"
     },
     "output_type": "display_data"
    }
   ],
   "source": [
    "diff = []\n",
    "output_px = []\n",
    "input_px = []\n",
    "for i in range(len(input_x)):\n",
    "    diff.append(((output_x[i][:,3]-input_x[i][:,3])/input_x[i][:,3]).flatten())\n",
    "    output_px.append(output_x[i][:,3].flatten())\n",
    "    input_px.append(input_x[i][:,3].flatten())\n",
    "    \n",
    "all_diff = np.concatenate(diff)\n",
    "all_input_px = np.concatenate(input_px)\n",
    "all_output_px = np.concatenate(output_px)\n",
    "\n",
    "print(all_input_px.shape)\n",
    "print(all_output_px.shape)\n",
    "\n",
    "plt.figure()\n",
    "plt.hist(all_input_px, bins=np.linspace(-1, 40, 101),alpha=0.5)\n",
    "plt.hist(all_output_px, bins=np.linspace(-1, 40, 101),alpha=0.5)\n",
    "\n",
    "plt.figure()\n",
    "plt.hist(all_diff, bins=np.linspace(-5, 5, 101))"
   ]
  },
  {
   "cell_type": "code",
   "execution_count": 26,
   "metadata": {},
   "outputs": [
    {
     "data": {
      "text/plain": [
       "3245.6025"
      ]
     },
     "execution_count": 26,
     "metadata": {},
     "output_type": "execute_result"
    }
   ],
   "source": [
    "max(all_input_px)"
   ]
  }
 ],
 "metadata": {
  "kernelspec": {
   "display_name": "Python 3",
   "language": "python",
   "name": "python3"
  },
  "language_info": {
   "codemirror_mode": {
    "name": "ipython",
    "version": 3
   },
   "file_extension": ".py",
   "mimetype": "text/x-python",
   "name": "python",
   "nbconvert_exporter": "python",
   "pygments_lexer": "ipython3",
   "version": "3.7.6"
  }
 },
 "nbformat": 4,
 "nbformat_minor": 4
}
