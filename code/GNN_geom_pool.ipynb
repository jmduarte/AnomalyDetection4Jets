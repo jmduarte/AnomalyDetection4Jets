{
 "cells": [
  {
   "cell_type": "code",
   "execution_count": 1,
   "metadata": {},
   "outputs": [],
   "source": [
    "import pandas as pd\n",
    "import numpy as np\n",
    "import tqdm\n",
    "import torch"
   ]
  },
  {
   "cell_type": "markdown",
   "metadata": {},
   "source": [
    "# Pre processing"
   ]
  },
  {
   "cell_type": "code",
   "execution_count": 2,
   "metadata": {},
   "outputs": [],
   "source": [
    "import torch\n",
    "from torch_geometric.data import Data, DataLoader\n",
    "import os\n",
    "import os.path as osp\n",
    "import math\n",
    "import argparse\n",
    "import torch.nn.functional as F\n",
    "import matplotlib.pyplot as plt\n",
    "from sklearn.metrics import roc_curve, auc\n",
    "from graph_data import GraphDataset\n",
    "\n",
    "gdata = GraphDataset(root='/anomalyvol/data/graph100particles',n_particles=100)\n",
    "\n",
    "input_dim = 4\n",
    "latent_dim = 32\n",
    "fulllen = len(gdata)\n",
    "tv_frac = 0.10\n",
    "tv_num = math.ceil(fulllen*tv_frac)\n",
    "splits = np.cumsum([fulllen-2*tv_num,tv_num,tv_num])\n",
    "batch_size = 32\n",
    "n_epochs = 20\n",
    "lr = 0.001\n",
    "patience = 10\n",
    "device = 'cuda:0'\n",
    "model_fname = 'EdgeNetPool'"
   ]
  },
  {
   "cell_type": "code",
   "execution_count": 3,
   "metadata": {},
   "outputs": [],
   "source": [
    "import torch\n",
    "import torch.nn as nn\n",
    "import torch.nn.functional as F\n",
    "import torch_geometric.transforms as T\n",
    "from torch_geometric.nn import EdgeConv, global_mean_pool\n",
    "\n",
    "class EdgeNetPool(nn.Module):\n",
    "    def __init__(self, input_dim=4, latent_dim=32, n_particles=100, aggr='mean'):\n",
    "        self.input_dim = input_dim\n",
    "        self.latent_dim = latent_dim\n",
    "        self.n_particles = n_particles\n",
    "        self.aggr = aggr\n",
    "        super(EdgeNetPool, self).__init__()\n",
    "        encoder_nn = nn.Sequential(nn.Linear(2*(self.input_dim), 64),\n",
    "                                   nn.ReLU(),\n",
    "                                   nn.Linear(64, self.latent_dim),\n",
    "                                   nn.ReLU(),\n",
    "        )\n",
    "        \n",
    "        self.decoder = nn.Sequential(nn.Linear(self.latent_dim, 128),\n",
    "                                   nn.ReLU(),\n",
    "                                   nn.Linear(128, self.n_particles*self.input_dim)\n",
    "        )\n",
    "        \n",
    "        self.batchnorm = nn.BatchNorm1d(input_dim)\n",
    "\n",
    "        self.encoder = EdgeConv(nn=encoder_nn,aggr=aggr)\n",
    "\n",
    "    def forward(self, data):\n",
    "        data.x = self.batchnorm(data.x)\n",
    "        data.x = self.encoder(data.x, data.edge_index)\n",
    "        data.u = global_mean_pool(data.x, data.batch)\n",
    "        data.x = self.decoder(data.u)\n",
    "        data.x = torch.reshape(data.x, (-1, self.input_dim))\n",
    "        return data.x"
   ]
  },
  {
   "cell_type": "code",
   "execution_count": 4,
   "metadata": {},
   "outputs": [],
   "source": [
    "model = EdgeNetPool(input_dim=input_dim, latent_dim=latent_dim).to(device)\n",
    "optimizer = torch.optim.Adam(model.parameters(), lr = lr)"
   ]
  },
  {
   "cell_type": "code",
   "execution_count": 5,
   "metadata": {},
   "outputs": [
    {
     "name": "stdout",
     "output_type": "stream",
     "text": [
      "24043\n",
      "2405\n",
      "2405\n",
      "Data(edge_index=[2, 420], x=[100, 4], y=[100, 4])\n"
     ]
    }
   ],
   "source": [
    "train_dataset = GraphDataset(root='/anomalyvol/data/graph100particles',n_particles=100,start=0,stop=splits[0])\n",
    "valid_dataset = GraphDataset(root='/anomalyvol/data/graph100particles',n_particles=100,start=splits[1],stop=splits[2])\n",
    "test_dataset = GraphDataset(root='/anomalyvol/data/graph100particles',n_particles=100,start=splits[0 ],stop=splits[1])\n",
    "\n",
    "train_loader = DataLoader(train_dataset, batch_size=batch_size, pin_memory=True, shuffle=True)\n",
    "valid_loader = DataLoader(valid_dataset, batch_size=batch_size, pin_memory=True, shuffle=False)\n",
    "test_loader = DataLoader(test_dataset, batch_size=batch_size, pin_memory=True, shuffle=False)\n",
    "\n",
    "train_samples = len(train_dataset)\n",
    "valid_samples = len(valid_dataset)\n",
    "test_samples = len(test_dataset)\n",
    "\n",
    "print(train_samples)\n",
    "print(valid_samples)\n",
    "print(test_samples)\n",
    "print(train_dataset[0])"
   ]
  },
  {
   "cell_type": "code",
   "execution_count": 6,
   "metadata": {},
   "outputs": [],
   "source": [
    "@torch.no_grad()\n",
    "def test(model,loader,total,batch_size):\n",
    "    model.eval()\n",
    "    \n",
    "    mse = nn.MSELoss(reduction='mean')\n",
    "\n",
    "    sum_loss = 0.\n",
    "    t = tqdm.tqdm(enumerate(loader),total=total/batch_size)\n",
    "    for i,data in t:\n",
    "        data = data.to(device)\n",
    "        batch_output = model(data)\n",
    "        batch_loss_item = mse(batch_output, data.y).item()\n",
    "        sum_loss += batch_loss_item\n",
    "        t.set_description(\"loss = %.5f\" % (batch_loss_item))\n",
    "        t.refresh() # to show immediately the update\n",
    "\n",
    "    return sum_loss/(i+1)\n",
    "\n",
    "def train(model, optimizer, loader, total, batch_size):\n",
    "    model.train()\n",
    "    \n",
    "    mse = nn.MSELoss(reduction='mean')\n",
    "\n",
    "    sum_loss = 0.\n",
    "    t = tqdm.tqdm(enumerate(loader),total=total/batch_size)\n",
    "    for i,data in t:\n",
    "        data = data.to(device)\n",
    "        optimizer.zero_grad()\n",
    "        batch_output = model(data)\n",
    "        batch_loss = mse(batch_output, data.y)\n",
    "        batch_loss.backward()\n",
    "        batch_loss_item = batch_loss.item()\n",
    "        t.set_description(\"loss = %.5f\" % batch_loss_item)\n",
    "        t.refresh() # to show immediately the update\n",
    "        sum_loss += batch_loss_item\n",
    "        optimizer.step()\n",
    "    \n",
    "    return sum_loss/(i+1)"
   ]
  },
  {
   "cell_type": "code",
   "execution_count": 7,
   "metadata": {},
   "outputs": [
    {
     "data": {
      "text/plain": [
       "<All keys matched successfully>"
      ]
     },
     "execution_count": 7,
     "metadata": {},
     "output_type": "execute_result"
    }
   ],
   "source": [
    "modpath = osp.join('/anomalyvol/models/gnn/',model_fname+'.best.pth')\n",
    "model.load_state_dict(torch.load(modpath))"
   ]
  },
  {
   "cell_type": "code",
   "execution_count": 8,
   "metadata": {
    "scrolled": false
   },
   "outputs": [
    {
     "name": "stderr",
     "output_type": "stream",
     "text": [
      "loss = 855.82214: : 752it [30:20,  2.42s/it]                              \n",
      "loss = 794.42181: : 76it [00:15,  4.91it/s]                             \n"
     ]
    },
    {
     "name": "stdout",
     "output_type": "stream",
     "text": [
      "Epoch: 00, Training Loss:   1755.0545\n",
      "               Validation Loss: 1728.0057\n",
      "New best model saved to: /anomalyvol/models/gnn/EdgeNetPool.best.pth\n"
     ]
    },
    {
     "name": "stderr",
     "output_type": "stream",
     "text": [
      "loss = 1305.38599: : 752it [07:44,  1.62it/s]                             \n",
      "loss = 797.61145: : 76it [00:18,  4.13it/s]                             \n",
      "  0%|          | 0/751.34375 [00:00<?, ?it/s]"
     ]
    },
    {
     "name": "stdout",
     "output_type": "stream",
     "text": [
      "Epoch: 01, Training Loss:   1753.3090\n",
      "               Validation Loss: 1783.6992\n",
      "Stale epoch\n"
     ]
    },
    {
     "name": "stderr",
     "output_type": "stream",
     "text": [
      "loss = 2138.02100: : 752it [07:35,  1.65it/s]                             \n",
      "loss = 796.62927: : 76it [00:18,  4.02it/s]                             \n",
      "  0%|          | 0/751.34375 [00:00<?, ?it/s]"
     ]
    },
    {
     "name": "stdout",
     "output_type": "stream",
     "text": [
      "Epoch: 02, Training Loss:   1754.0164\n",
      "               Validation Loss: 1779.5909\n",
      "Stale epoch\n"
     ]
    },
    {
     "name": "stderr",
     "output_type": "stream",
     "text": [
      "loss = 2301.19678: : 752it [07:42,  1.63it/s]                             \n",
      "loss = 797.88849: : 76it [00:16,  4.59it/s]                              \n",
      "  0%|          | 0/751.34375 [00:00<?, ?it/s]"
     ]
    },
    {
     "name": "stdout",
     "output_type": "stream",
     "text": [
      "Epoch: 03, Training Loss:   1753.9449\n",
      "               Validation Loss: 2163.0994\n",
      "Stale epoch\n"
     ]
    },
    {
     "name": "stderr",
     "output_type": "stream",
     "text": [
      "loss = 1296.62598: : 752it [07:41,  1.63it/s]                             \n",
      "loss = 795.84290: : 76it [00:18,  4.04it/s]                             \n"
     ]
    },
    {
     "name": "stdout",
     "output_type": "stream",
     "text": [
      "Epoch: 04, Training Loss:   1752.4041\n",
      "               Validation Loss: 1727.9990\n",
      "New best model saved to: /anomalyvol/models/gnn/EdgeNetPool.best.pth\n"
     ]
    },
    {
     "name": "stderr",
     "output_type": "stream",
     "text": [
      "loss = 989.75793: : 752it [14:41,  1.17s/it]                              \n",
      "loss = 794.03540: : 76it [00:18,  4.21it/s]                              \n",
      "  0%|          | 0/751.34375 [00:00<?, ?it/s]"
     ]
    },
    {
     "name": "stdout",
     "output_type": "stream",
     "text": [
      "Epoch: 05, Training Loss:   1750.9271\n",
      "               Validation Loss: 1902.9135\n",
      "Stale epoch\n"
     ]
    },
    {
     "name": "stderr",
     "output_type": "stream",
     "text": [
      "loss = 728.19263: : 752it [07:37,  1.64it/s]                              \n",
      "loss = 798.93256: : 76it [00:19,  3.98it/s]                              \n",
      "  0%|          | 0/751.34375 [00:00<?, ?it/s]"
     ]
    },
    {
     "name": "stdout",
     "output_type": "stream",
     "text": [
      "Epoch: 06, Training Loss:   1749.6960\n",
      "               Validation Loss: 2033.7063\n",
      "Stale epoch\n"
     ]
    },
    {
     "name": "stderr",
     "output_type": "stream",
     "text": [
      "loss = 2793.74805: : 752it [07:31,  1.67it/s]                             \n",
      "loss = 796.10669: : 76it [00:18,  4.09it/s]                              \n",
      "  0%|          | 0/751.34375 [00:00<?, ?it/s]"
     ]
    },
    {
     "name": "stdout",
     "output_type": "stream",
     "text": [
      "Epoch: 07, Training Loss:   1751.3120\n",
      "               Validation Loss: 2028.0172\n",
      "Stale epoch\n"
     ]
    },
    {
     "name": "stderr",
     "output_type": "stream",
     "text": [
      "loss = 1384.45203: : 752it [07:42,  1.63it/s]                             \n",
      "loss = 794.39874: : 76it [00:18,  4.13it/s]                               \n",
      "  0%|          | 0/751.34375 [00:00<?, ?it/s]"
     ]
    },
    {
     "name": "stdout",
     "output_type": "stream",
     "text": [
      "Epoch: 08, Training Loss:   1749.4996\n",
      "               Validation Loss: 3093.9390\n",
      "Stale epoch\n"
     ]
    },
    {
     "name": "stderr",
     "output_type": "stream",
     "text": [
      "loss = 3787.98877: : 752it [07:36,  1.65it/s]                             \n",
      "loss = 797.61743: : 76it [00:18,  4.12it/s]                               \n",
      "  0%|          | 0/751.34375 [00:00<?, ?it/s]"
     ]
    },
    {
     "name": "stdout",
     "output_type": "stream",
     "text": [
      "Epoch: 09, Training Loss:   1751.2610\n",
      "               Validation Loss: 3839.0492\n",
      "Stale epoch\n"
     ]
    },
    {
     "name": "stderr",
     "output_type": "stream",
     "text": [
      "loss = 808.44794: : 752it [10:53,  1.15it/s]                              \n",
      "loss = 789.76263: : 76it [00:29,  2.61it/s]                               \n",
      "  0%|          | 0/751.34375 [00:00<?, ?it/s]"
     ]
    },
    {
     "name": "stdout",
     "output_type": "stream",
     "text": [
      "Epoch: 10, Training Loss:   1747.5511\n",
      "               Validation Loss: 4184.6288\n",
      "Stale epoch\n"
     ]
    },
    {
     "name": "stderr",
     "output_type": "stream",
     "text": [
      "loss = 1831.18384: : 752it [09:32,  1.31it/s]                             \n",
      "loss = 796.63690: : 76it [00:18,  4.07it/s]                               \n",
      "  0%|          | 0/751.34375 [00:00<?, ?it/s]"
     ]
    },
    {
     "name": "stdout",
     "output_type": "stream",
     "text": [
      "Epoch: 11, Training Loss:   1747.7602\n",
      "               Validation Loss: 5287.3608\n",
      "Stale epoch\n"
     ]
    },
    {
     "name": "stderr",
     "output_type": "stream",
     "text": [
      "loss = 796.60840: : 752it [07:36,  1.65it/s]                              \n",
      "loss = 789.47205: : 76it [00:16,  4.49it/s]                               \n",
      "  0%|          | 0/751.34375 [00:00<?, ?it/s]"
     ]
    },
    {
     "name": "stdout",
     "output_type": "stream",
     "text": [
      "Epoch: 12, Training Loss:   1746.8201\n",
      "               Validation Loss: 6235.3052\n",
      "Stale epoch\n"
     ]
    },
    {
     "name": "stderr",
     "output_type": "stream",
     "text": [
      "loss = 2259.34326: : 752it [07:37,  1.64it/s]                             \n",
      "loss = 789.62201: : 76it [00:18,  4.20it/s]                               \n",
      "  0%|          | 0/751.34375 [00:00<?, ?it/s]"
     ]
    },
    {
     "name": "stdout",
     "output_type": "stream",
     "text": [
      "Epoch: 13, Training Loss:   1747.0419\n",
      "               Validation Loss: 3578.1989\n",
      "Stale epoch\n"
     ]
    },
    {
     "name": "stderr",
     "output_type": "stream",
     "text": [
      "loss = 1683.34656: : 752it [07:18,  1.71it/s]                             \n",
      "loss = 790.24103: : 76it [00:19,  3.99it/s]                               "
     ]
    },
    {
     "name": "stdout",
     "output_type": "stream",
     "text": [
      "Epoch: 14, Training Loss:   1745.3578\n",
      "               Validation Loss: 3961.5174\n",
      "Stale epoch\n",
      "Early stopping after 10 stale epochs\n"
     ]
    },
    {
     "name": "stderr",
     "output_type": "stream",
     "text": [
      "\n"
     ]
    }
   ],
   "source": [
    "stale_epochs = 0\n",
    "best_valid_loss = 99999\n",
    "for epoch in range(0, n_epochs):\n",
    "    loss = train(model, optimizer, train_loader, train_samples, batch_size)\n",
    "    valid_loss = test(model, valid_loader, valid_samples, batch_size)\n",
    "    print('Epoch: {:02d}, Training Loss:   {:.4f}'.format(epoch, loss))\n",
    "    print('               Validation Loss: {:.4f}'.format(valid_loss))\n",
    "\n",
    "    if valid_loss < best_valid_loss:\n",
    "        best_valid_loss = valid_loss\n",
    "        modpath = osp.join('/anomalyvol/models/gnn/',model_fname+'.best.pth')\n",
    "        print('New best model saved to:',modpath)\n",
    "        torch.save(model.state_dict(),modpath)\n",
    "        stale_epochs = 0\n",
    "    else:\n",
    "        print('Stale epoch')\n",
    "        stale_epochs += 1\n",
    "    if stale_epochs >= patience:\n",
    "        print('Early stopping after %i stale epochs'%patience)\n",
    "        break"
   ]
  },
  {
   "cell_type": "code",
   "execution_count": 9,
   "metadata": {},
   "outputs": [
    {
     "name": "stderr",
     "output_type": "stream",
     "text": [
      "76it [00:19,  3.93it/s]                              \n"
     ]
    }
   ],
   "source": [
    "model.load_state_dict(torch.load(modpath))\n",
    "input_x = []\n",
    "output_x = []\n",
    "\n",
    "t = tqdm.tqdm(enumerate(test_loader),total=test_samples/batch_size)\n",
    "for i, data in t:\n",
    "    data.to(device)\n",
    "    input_x.append(data.x.cpu().numpy())\n",
    "    output_x.append(model(data).cpu().detach().numpy())"
   ]
  },
  {
   "cell_type": "code",
   "execution_count": 11,
   "metadata": {},
   "outputs": [],
   "source": [
    "def in_out_diff_append(diff, output, inputs, i, ft_idx): # helper for appending 3 lists\n",
    "    diff.append(((output_x[i][:,ft_idx]-input_x[i][:,ft_idx])/input_x[i][:,ft_idx]).flatten())\n",
    "    output.append(output_x[i][:,ft_idx].flatten())\n",
    "    inputs.append(input_x[i][:,ft_idx].flatten())\n",
    "\n",
    "def in_out_diff_concat(diff, output, inputs):\n",
    "    diff = np.concatenate(diff)\n",
    "    output = np.concatenate(output)\n",
    "    inputs = np.concatenate(inputs)\n",
    "    return [diff, output, inputs]\n",
    "\n",
    "def make_hists(diff, output, inputs, bin1):\n",
    "    plt.figure()\n",
    "    plt.hist(inputs, bins=bin1,alpha=0.5)\n",
    "    plt.hist(output, bins=bin1,alpha=0.5)\n",
    "    plt.show()\n",
    "\n",
    "    plt.figure()\n",
    "    plt.hist(diff, bins=np.linspace(-5, 5, 101))\n",
    "    plt.show()"
   ]
  },
  {
   "cell_type": "code",
   "execution_count": 12,
   "metadata": {
    "scrolled": false
   },
   "outputs": [
    {
     "name": "stderr",
     "output_type": "stream",
     "text": [
      "/opt/conda/lib/python3.7/site-packages/ipykernel_launcher.py:2: RuntimeWarning: divide by zero encountered in true_divide\n",
      "  \n"
     ]
    },
    {
     "name": "stdout",
     "output_type": "stream",
     "text": [
      "px\n"
     ]
    },
    {
     "data": {
      "image/png": "[encoded data removed]",
      "text/plain": [
       "<Figure size 432x288 with 1 Axes>"
      ]
     },
     "metadata": {
      "needs_background": "light"
     },
     "output_type": "display_data"
    },
    {
     "data": {
      "image/png": "[encoded data removed]",
      "text/plain": [
       "<Figure size 432x288 with 1 Axes>"
      ]
     },
     "metadata": {
      "needs_background": "light"
     },
     "output_type": "display_data"
    },
    {
     "name": "stdout",
     "output_type": "stream",
     "text": [
      "py\n"
     ]
    },
    {
     "data": {
      "image/png": "[encoded data removed]",
      "text/plain": [
       "<Figure size 432x288 with 1 Axes>"
      ]
     },
     "metadata": {
      "needs_background": "light"
     },
     "output_type": "display_data"
    },
    {
     "data": {
      "image/png": "[encoded data removed]",
      "text/plain": [
       "<Figure size 432x288 with 1 Axes>"
      ]
     },
     "metadata": {
      "needs_background": "light"
     },
     "output_type": "display_data"
    },
    {
     "name": "stdout",
     "output_type": "stream",
     "text": [
      "pz\n"
     ]
    },
    {
     "data": {
      "image/png": "[encoded data removed]",
      "text/plain": [
       "<Figure size 432x288 with 1 Axes>"
      ]
     },
     "metadata": {
      "needs_background": "light"
     },
     "output_type": "display_data"
    },
    {
     "data": {
      "image/png": "[encoded data removed]",
      "text/plain": [
       "<Figure size 432x288 with 1 Axes>"
      ]
     },
     "metadata": {
      "needs_background": "light"
     },
     "output_type": "display_data"
    },
    {
     "name": "stdout",
     "output_type": "stream",
     "text": [
      "e\n"
     ]
    },
    {
     "data": {
      "image/png": "[encoded data removed]",
      "text/plain": [
       "<Figure size 432x288 with 1 Axes>"
      ]
     },
     "metadata": {
      "needs_background": "light"
     },
     "output_type": "display_data"
    },
    {
     "data": {
      "image/png": "[encoded data removed]",
      "text/plain": [
       "<Figure size 432x288 with 1 Axes>"
      ]
     },
     "metadata": {
      "needs_background": "light"
     },
     "output_type": "display_data"
    }
   ],
   "source": [
    "diff_px = []\n",
    "output_px = []\n",
    "input_px = []\n",
    "diff_py = []\n",
    "output_py = []\n",
    "input_py = []\n",
    "diff_pz = []\n",
    "output_pz = []\n",
    "input_pz = []\n",
    "diff_e = []\n",
    "output_e = []\n",
    "input_e = []\n",
    "\n",
    "# get output in readable format\n",
    "for i in range(len(input_x)):\n",
    "    # px\n",
    "    in_out_diff_append(diff_px, output_px, input_px, i, 0)\n",
    "    in_out_diff_append(diff_py, output_py, input_py, i, 1)\n",
    "    in_out_diff_append(diff_pz, output_pz, input_pz, i, 2)\n",
    "    in_out_diff_append(diff_e, output_e, input_e, i, 3)\n",
    "\n",
    "# remove extra brackets\n",
    "diff_px, output_px, input_px = in_out_diff_concat(diff_px, output_px, input_px)\n",
    "diff_py, output_py, input_py = in_out_diff_concat(diff_py, output_py, input_py)\n",
    "diff_pz, output_pz, input_pz = in_out_diff_concat(diff_pz, output_pz, input_pz)\n",
    "diff_e, output_e, input_e = in_out_diff_concat(diff_e, output_e, input_e)\n",
    "\n",
    "print(\"px\")\n",
    "bins = np.linspace(-40, 40, 101)\n",
    "make_hists(diff_px, output_px, input_px, bins)\n",
    "\n",
    "print(\"py\")\n",
    "make_hists(diff_py, output_py, input_py, bins)\n",
    "\n",
    "print(\"pz\")\n",
    "make_hists(diff_pz, output_pz, input_pz, bins)\n",
    "\n",
    "print(\"e\")\n",
    "bins = np.linspace(-5, 40, 101)\n",
    "make_hists(diff_e, output_e, input_e, bins)"
   ]
  }
 ],
 "metadata": {
  "kernelspec": {
   "display_name": "Python 3",
   "language": "python",
   "name": "python3"
  },
  "language_info": {
   "codemirror_mode": {
    "name": "ipython",
    "version": 3
   },
   "file_extension": ".py",
   "mimetype": "text/x-python",
   "name": "python",
   "nbconvert_exporter": "python",
   "pygments_lexer": "ipython3",
   "version": "3.7.6"
  }
 },
 "nbformat": 4,
 "nbformat_minor": 4
}
