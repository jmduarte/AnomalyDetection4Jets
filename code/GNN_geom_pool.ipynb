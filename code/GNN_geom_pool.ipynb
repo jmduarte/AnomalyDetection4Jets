{
 "cells": [
  {
   "cell_type": "code",
   "execution_count": 1,
   "metadata": {},
   "outputs": [],
   "source": [
    "import pandas as pd\n",
    "import numpy as np\n",
    "import tqdm\n",
    "import torch"
   ]
  },
  {
   "cell_type": "markdown",
   "metadata": {},
   "source": [
    "# Pre processing"
   ]
  },
  {
   "cell_type": "code",
   "execution_count": 2,
   "metadata": {},
   "outputs": [],
   "source": [
    "import torch\n",
    "from torch_geometric.data import Data, DataLoader\n",
    "import os\n",
    "import os.path as osp\n",
    "import math\n",
    "import argparse\n",
    "import torch.nn.functional as F\n",
    "import matplotlib.pyplot as plt\n",
    "from sklearn.metrics import roc_curve, auc\n",
    "from graph_data import GraphDataset\n",
    "\n",
    "gdata = GraphDataset(root='/anomalyvol/data/graph100particles',n_particles=100)\n",
    "\n",
    "input_dim = 4\n",
    "latent_dim = 32\n",
    "fulllen = len(gdata)\n",
    "tv_frac = 0.10\n",
    "tv_num = math.ceil(fulllen*tv_frac)\n",
    "splits = np.cumsum([fulllen-2*tv_num,tv_num,tv_num])\n",
    "batch_size = 32\n",
    "n_epochs = 20\n",
    "lr = 0.001\n",
    "patience = 10\n",
    "device = 'cuda:0'\n",
    "model_fname = 'EdgeNetPool'"
   ]
  },
  {
   "cell_type": "code",
   "execution_count": 3,
   "metadata": {},
   "outputs": [],
   "source": [
    "import torch\n",
    "import torch.nn as nn\n",
    "import torch.nn.functional as F\n",
    "import torch_geometric.transforms as T\n",
    "from torch_geometric.nn import EdgeConv, global_mean_pool\n",
    "\n",
    "class EdgeNetPool(nn.Module):\n",
    "    def __init__(self, input_dim=4, latent_dim=32, n_particles=100, aggr='mean'):\n",
    "        self.input_dim = input_dim\n",
    "        self.latent_dim = latent_dim\n",
    "        self.n_particles = n_particles\n",
    "        self.aggr = aggr\n",
    "        super(EdgeNetPool, self).__init__()\n",
    "        encoder_nn = nn.Sequential(nn.Linear(2*(self.input_dim), 64),\n",
    "                                   nn.ReLU(),\n",
    "                                   nn.Linear(64, self.latent_dim),\n",
    "                                   nn.ReLU(),\n",
    "        )\n",
    "        \n",
    "        self.decoder = nn.Sequential(nn.Linear(self.latent_dim, 128),\n",
    "                                   nn.ReLU(),\n",
    "                                   nn.Linear(128, self.n_particles*self.input_dim)\n",
    "        )\n",
    "        \n",
    "        self.batchnorm = nn.BatchNorm1d(input_dim)\n",
    "\n",
    "        self.encoder = EdgeConv(nn=encoder_nn,aggr=aggr)\n",
    "\n",
    "    def forward(self, data):\n",
    "        data.x = self.batchnorm(data.x)\n",
    "        data.x = self.encoder(data.x, data.edge_index)\n",
    "        data.u = global_mean_pool(data.x, data.batch)\n",
    "        data.x = self.decoder(data.u)\n",
    "        data.x = torch.reshape(data.x, (-1, self.input_dim))\n",
    "        return data.x"
   ]
  },
  {
   "cell_type": "code",
   "execution_count": 4,
   "metadata": {},
   "outputs": [],
   "source": [
    "model = EdgeNetPool(input_dim=input_dim, latent_dim=latent_dim).to(device)\n",
    "optimizer = torch.optim.Adam(model.parameters(), lr = lr)"
   ]
  },
  {
   "cell_type": "code",
   "execution_count": 5,
   "metadata": {},
   "outputs": [
    {
     "name": "stdout",
     "output_type": "stream",
     "text": [
      "24043\n",
      "2405\n",
      "2405\n",
      "Data(edge_index=[2, 420], x=[100, 4], y=[100, 4])\n"
     ]
    }
   ],
   "source": [
    "train_dataset = GraphDataset(root='/anomalyvol/data/graph100particles',n_particles=100,start=0,stop=splits[0])\n",
    "valid_dataset = GraphDataset(root='/anomalyvol/data/graph100particles',n_particles=100,start=splits[1],stop=splits[2])\n",
    "test_dataset = GraphDataset(root='/anomalyvol/data/graph100particles',n_particles=100,start=splits[0 ],stop=splits[1])\n",
    "\n",
    "train_loader = DataLoader(train_dataset, batch_size=batch_size, pin_memory=True, shuffle=True)\n",
    "valid_loader = DataLoader(valid_dataset, batch_size=batch_size, pin_memory=True, shuffle=False)\n",
    "test_loader = DataLoader(test_dataset, batch_size=batch_size, pin_memory=True, shuffle=False)\n",
    "\n",
    "train_samples = len(train_dataset)\n",
    "valid_samples = len(valid_dataset)\n",
    "test_samples = len(test_dataset)\n",
    "\n",
    "print(train_samples)\n",
    "print(valid_samples)\n",
    "print(test_samples)\n",
    "print(train_dataset[0])"
   ]
  },
  {
   "cell_type": "code",
   "execution_count": 6,
   "metadata": {},
   "outputs": [],
   "source": [
    "@torch.no_grad()\n",
    "def test(model,loader,total,batch_size):\n",
    "    model.eval()\n",
    "    \n",
    "    mse = nn.MSELoss(reduction='mean')\n",
    "\n",
    "    sum_loss = 0.\n",
    "    t = tqdm.tqdm(enumerate(loader),total=total/batch_size)\n",
    "    for i,data in t:\n",
    "        data = data.to(device)\n",
    "        batch_output = model(data)\n",
    "        batch_loss_item = mse(batch_output, data.y).item()\n",
    "        sum_loss += batch_loss_item\n",
    "        t.set_description(\"loss = %.5f\" % (batch_loss_item))\n",
    "        t.refresh() # to show immediately the update\n",
    "\n",
    "    return sum_loss/(i+1)\n",
    "\n",
    "def train(model, optimizer, loader, total, batch_size):\n",
    "    model.train()\n",
    "    \n",
    "    mse = nn.MSELoss(reduction='mean')\n",
    "\n",
    "    sum_loss = 0.\n",
    "    t = tqdm.tqdm(enumerate(loader),total=total/batch_size)\n",
    "    for i,data in t:\n",
    "        data = data.to(device)\n",
    "        optimizer.zero_grad()\n",
    "        batch_output = model(data)\n",
    "        batch_loss = mse(batch_output, data.y)\n",
    "        batch_loss.backward()\n",
    "        batch_loss_item = batch_loss.item()\n",
    "        t.set_description(\"loss = %.5f\" % batch_loss_item)\n",
    "        t.refresh() # to show immediately the update\n",
    "        sum_loss += batch_loss_item\n",
    "        optimizer.step()\n",
    "    \n",
    "    return sum_loss/(i+1)"
   ]
  },
  {
   "cell_type": "code",
   "execution_count": 7,
   "metadata": {},
   "outputs": [
    {
     "data": {
      "text/plain": [
       "<All keys matched successfully>"
      ]
     },
     "execution_count": 7,
     "metadata": {},
     "output_type": "execute_result"
    }
   ],
   "source": [
    "modpath = osp.join('/anomalyvol/models/gnn/',model_fname+'.best.pth')\n",
    "model.load_state_dict(torch.load(modpath))"
   ]
  },
  {
   "cell_type": "code",
   "execution_count": 8,
   "metadata": {
    "scrolled": false
   },
   "outputs": [
    {
     "name": "stderr",
     "output_type": "stream",
     "text": [
      "loss = 3284.45459: : 752it [29:55,  2.39s/it]                             \n",
      "loss = 860.97156: : 76it [00:03, 22.10it/s]                                \n"
     ]
    },
    {
     "name": "stdout",
     "output_type": "stream",
     "text": [
      "Epoch: 00, Training Loss:   1889.9413\n",
      "               Validation Loss: 45856.4805\n",
      "New best model saved to: /anomalyvol/models/gnn/EdgeNetPool.best.pth\n"
     ]
    },
    {
     "name": "stderr",
     "output_type": "stream",
     "text": [
      "loss = 1056.95471: : 752it [03:59,  3.14it/s]                             \n",
      "loss = 854.48395: : 76it [00:03, 21.55it/s]                               \n",
      "  0%|          | 0/751.34375 [00:00<?, ?it/s]"
     ]
    },
    {
     "name": "stdout",
     "output_type": "stream",
     "text": [
      "Epoch: 01, Training Loss:   1875.6134\n",
      "               Validation Loss: 14532.7741\n",
      "New best model saved to: /anomalyvol/models/gnn/EdgeNetPool.best.pth\n"
     ]
    },
    {
     "name": "stderr",
     "output_type": "stream",
     "text": [
      "loss = 643.55780: : 752it [03:55,  3.19it/s]                              \n",
      "loss = 851.87915: : 76it [00:03, 21.69it/s]                               \n",
      "  0%|          | 0/751.34375 [00:00<?, ?it/s]"
     ]
    },
    {
     "name": "stdout",
     "output_type": "stream",
     "text": [
      "Epoch: 02, Training Loss:   1867.6419\n",
      "               Validation Loss: 10739.1196\n",
      "New best model saved to: /anomalyvol/models/gnn/EdgeNetPool.best.pth\n"
     ]
    },
    {
     "name": "stderr",
     "output_type": "stream",
     "text": [
      "loss = 1562.97156: : 752it [03:57,  3.17it/s]                             \n",
      "loss = 852.56622: : 76it [00:03, 21.14it/s]                             \n",
      "  0%|          | 0/751.34375 [00:00<?, ?it/s]"
     ]
    },
    {
     "name": "stdout",
     "output_type": "stream",
     "text": [
      "Epoch: 03, Training Loss:   1860.4712\n",
      "               Validation Loss: 1830.3543\n",
      "New best model saved to: /anomalyvol/models/gnn/EdgeNetPool.best.pth\n"
     ]
    },
    {
     "name": "stderr",
     "output_type": "stream",
     "text": [
      "loss = 1396.34326: : 752it [03:56,  3.18it/s]                             \n",
      "loss = 852.60803: : 76it [00:03, 22.09it/s]                             \n"
     ]
    },
    {
     "name": "stdout",
     "output_type": "stream",
     "text": [
      "Epoch: 04, Training Loss:   1857.7002\n",
      "               Validation Loss: 1826.4312\n",
      "New best model saved to: /anomalyvol/models/gnn/EdgeNetPool.best.pth\n"
     ]
    },
    {
     "name": "stderr",
     "output_type": "stream",
     "text": [
      "loss = 2925.74731: : 752it [10:15,  1.22it/s]                             \n",
      "loss = 850.03943: : 76it [00:03, 21.11it/s]                             \n",
      "  0%|          | 0/751.34375 [00:00<?, ?it/s]"
     ]
    },
    {
     "name": "stdout",
     "output_type": "stream",
     "text": [
      "Epoch: 05, Training Loss:   1855.8626\n",
      "               Validation Loss: 1830.5651\n",
      "Stale epoch\n"
     ]
    },
    {
     "name": "stderr",
     "output_type": "stream",
     "text": [
      "loss = 1144.68616: : 752it [03:57,  3.16it/s]                             \n",
      "loss = 859.81219: : 76it [00:03, 20.88it/s]                             \n"
     ]
    },
    {
     "name": "stdout",
     "output_type": "stream",
     "text": [
      "Epoch: 06, Training Loss:   1851.4183\n",
      "               Validation Loss: 1818.9481\n",
      "New best model saved to: /anomalyvol/models/gnn/EdgeNetPool.best.pth\n"
     ]
    },
    {
     "name": "stderr",
     "output_type": "stream",
     "text": [
      "loss = 471.80640: : 752it [03:56,  3.18it/s]                              \n",
      "loss = 856.29755: : 76it [00:03, 21.11it/s]                             \n",
      "  0%|          | 0/751.34375 [00:00<?, ?it/s]"
     ]
    },
    {
     "name": "stdout",
     "output_type": "stream",
     "text": [
      "Epoch: 07, Training Loss:   1852.0094\n",
      "               Validation Loss: 1820.4495\n",
      "Stale epoch\n"
     ]
    },
    {
     "name": "stderr",
     "output_type": "stream",
     "text": [
      "loss = 726.68549: : 752it [03:54,  3.20it/s]                              \n",
      "loss = 850.60291: : 76it [00:03, 21.10it/s]                             \n",
      "  0%|          | 0/751.34375 [00:00<?, ?it/s]"
     ]
    },
    {
     "name": "stdout",
     "output_type": "stream",
     "text": [
      "Epoch: 08, Training Loss:   1848.7882\n",
      "               Validation Loss: 1817.3061\n",
      "New best model saved to: /anomalyvol/models/gnn/EdgeNetPool.best.pth\n"
     ]
    },
    {
     "name": "stderr",
     "output_type": "stream",
     "text": [
      "loss = 1850.76978: : 752it [03:54,  3.21it/s]                             \n",
      "loss = 850.03943: : 76it [00:03, 21.50it/s]                             \n"
     ]
    },
    {
     "name": "stdout",
     "output_type": "stream",
     "text": [
      "Epoch: 09, Training Loss:   1846.0969\n",
      "               Validation Loss: 1815.1544\n",
      "New best model saved to: /anomalyvol/models/gnn/EdgeNetPool.best.pth\n"
     ]
    },
    {
     "name": "stderr",
     "output_type": "stream",
     "text": [
      "loss = 1707.34912: : 752it [03:53,  3.22it/s]                             \n",
      "loss = 848.88916: : 76it [00:03, 22.24it/s]                             \n",
      "  0%|          | 0/751.34375 [00:00<?, ?it/s]"
     ]
    },
    {
     "name": "stdout",
     "output_type": "stream",
     "text": [
      "Epoch: 10, Training Loss:   1844.7091\n",
      "               Validation Loss: 1813.4246\n",
      "New best model saved to: /anomalyvol/models/gnn/EdgeNetPool.best.pth\n"
     ]
    },
    {
     "name": "stderr",
     "output_type": "stream",
     "text": [
      "loss = 1575.64185: : 752it [03:57,  3.17it/s]                             \n",
      "loss = 846.21594: : 76it [00:03, 21.51it/s]                             \n",
      "  0%|          | 0/751.34375 [00:00<?, ?it/s]"
     ]
    },
    {
     "name": "stdout",
     "output_type": "stream",
     "text": [
      "Epoch: 11, Training Loss:   1841.0349\n",
      "               Validation Loss: 1810.5396\n",
      "New best model saved to: /anomalyvol/models/gnn/EdgeNetPool.best.pth\n"
     ]
    },
    {
     "name": "stderr",
     "output_type": "stream",
     "text": [
      "loss = 1057.65454: : 752it [03:55,  3.20it/s]                             \n",
      "loss = 846.54462: : 76it [00:03, 21.31it/s]                             \n",
      "  0%|          | 0/751.34375 [00:00<?, ?it/s]"
     ]
    },
    {
     "name": "stdout",
     "output_type": "stream",
     "text": [
      "Epoch: 12, Training Loss:   1839.1259\n",
      "               Validation Loss: 1808.8505\n",
      "New best model saved to: /anomalyvol/models/gnn/EdgeNetPool.best.pth\n"
     ]
    },
    {
     "name": "stderr",
     "output_type": "stream",
     "text": [
      "loss = 1753.22107: : 752it [03:53,  3.22it/s]                             \n",
      "loss = 846.53943: : 76it [00:03, 21.60it/s]                             \n",
      "  0%|          | 0/751.34375 [00:00<?, ?it/s]"
     ]
    },
    {
     "name": "stdout",
     "output_type": "stream",
     "text": [
      "Epoch: 13, Training Loss:   1837.2975\n",
      "               Validation Loss: 1806.0959\n",
      "New best model saved to: /anomalyvol/models/gnn/EdgeNetPool.best.pth\n"
     ]
    },
    {
     "name": "stderr",
     "output_type": "stream",
     "text": [
      "loss = 2184.58691: : 752it [03:57,  3.17it/s]                             \n",
      "loss = 844.55902: : 76it [00:03, 22.41it/s]                             \n",
      "  0%|          | 0/751.34375 [00:00<?, ?it/s]"
     ]
    },
    {
     "name": "stdout",
     "output_type": "stream",
     "text": [
      "Epoch: 14, Training Loss:   1836.7567\n",
      "               Validation Loss: 1806.7512\n",
      "Stale epoch\n"
     ]
    },
    {
     "name": "stderr",
     "output_type": "stream",
     "text": [
      "loss = 1964.15588: : 752it [03:54,  3.20it/s]                             \n",
      "loss = 843.05420: : 76it [00:03, 22.40it/s]                             \n"
     ]
    },
    {
     "name": "stdout",
     "output_type": "stream",
     "text": [
      "Epoch: 15, Training Loss:   1833.4241\n",
      "               Validation Loss: 1802.5381\n",
      "New best model saved to: /anomalyvol/models/gnn/EdgeNetPool.best.pth\n"
     ]
    },
    {
     "name": "stderr",
     "output_type": "stream",
     "text": [
      "loss = 850.02148: : 752it [10:03,  1.25it/s]                              \n",
      "loss = 843.47235: : 76it [00:03, 22.75it/s]                             \n",
      "  0%|          | 0/751.34375 [00:00<?, ?it/s]"
     ]
    },
    {
     "name": "stdout",
     "output_type": "stream",
     "text": [
      "Epoch: 16, Training Loss:   1831.0104\n",
      "               Validation Loss: 1800.2018\n",
      "New best model saved to: /anomalyvol/models/gnn/EdgeNetPool.best.pth\n"
     ]
    },
    {
     "name": "stderr",
     "output_type": "stream",
     "text": [
      "loss = 1339.98389: : 752it [03:51,  3.25it/s]                             \n",
      "loss = 842.02631: : 76it [00:03, 22.89it/s]                             \n",
      "  0%|          | 0/751.34375 [00:00<?, ?it/s]"
     ]
    },
    {
     "name": "stdout",
     "output_type": "stream",
     "text": [
      "Epoch: 17, Training Loss:   1831.9098\n",
      "               Validation Loss: 1801.1831\n",
      "Stale epoch\n"
     ]
    },
    {
     "name": "stderr",
     "output_type": "stream",
     "text": [
      "loss = 1461.65845: : 752it [03:53,  3.23it/s]                             \n",
      "loss = 846.45764: : 76it [00:03, 22.29it/s]                             \n",
      "  0%|          | 0/751.34375 [00:00<?, ?it/s]"
     ]
    },
    {
     "name": "stdout",
     "output_type": "stream",
     "text": [
      "Epoch: 18, Training Loss:   1832.2142\n",
      "               Validation Loss: 1806.4328\n",
      "Stale epoch\n"
     ]
    },
    {
     "name": "stderr",
     "output_type": "stream",
     "text": [
      "loss = 746.75751: : 752it [03:54,  3.21it/s]                              \n",
      "loss = 838.02631: : 76it [00:03, 22.37it/s]                             \n"
     ]
    },
    {
     "name": "stdout",
     "output_type": "stream",
     "text": [
      "Epoch: 19, Training Loss:   1827.4906\n",
      "               Validation Loss: 1796.6063\n",
      "New best model saved to: /anomalyvol/models/gnn/EdgeNetPool.best.pth\n"
     ]
    }
   ],
   "source": [
    "stale_epochs = 0\n",
    "best_valid_loss = 99999\n",
    "for epoch in range(0, n_epochs):\n",
    "    loss = train(model, optimizer, train_loader, train_samples, batch_size)\n",
    "    valid_loss = test(model, valid_loader, valid_samples, batch_size)\n",
    "    print('Epoch: {:02d}, Training Loss:   {:.4f}'.format(epoch, loss))\n",
    "    print('               Validation Loss: {:.4f}'.format(valid_loss))\n",
    "\n",
    "    if valid_loss < best_valid_loss:\n",
    "        best_valid_loss = valid_loss\n",
    "        modpath = osp.join('/anomalyvol/models/gnn/',model_fname+'.best.pth')\n",
    "        print('New best model saved to:',modpath)\n",
    "        torch.save(model.state_dict(),modpath)\n",
    "        stale_epochs = 0\n",
    "    else:\n",
    "        print('Stale epoch')\n",
    "        stale_epochs += 1\n",
    "    if stale_epochs >= patience:\n",
    "        print('Early stopping after %i stale epochs'%patience)\n",
    "        break"
   ]
  },
  {
   "cell_type": "code",
   "execution_count": 9,
   "metadata": {},
   "outputs": [
    {
     "name": "stderr",
     "output_type": "stream",
     "text": [
      "76it [00:03, 23.36it/s]                              \n"
     ]
    }
   ],
   "source": [
    "model.load_state_dict(torch.load(modpath))\n",
    "input_x = []\n",
    "output_x = []\n",
    "\n",
    "t = tqdm.tqdm(enumerate(test_loader),total=test_samples/batch_size)\n",
    "for i, data in t:\n",
    "    data.to(device)\n",
    "    input_x.append(data.x.cpu().numpy())\n",
    "    output_x.append(model(data).cpu().detach().numpy())"
   ]
  },
  {
   "cell_type": "code",
   "execution_count": 10,
   "metadata": {},
   "outputs": [
    {
     "name": "stderr",
     "output_type": "stream",
     "text": [
      "/opt/conda/lib/python3.7/site-packages/ipykernel_launcher.py:5: RuntimeWarning: divide by zero encountered in true_divide\n",
      "  \"\"\"\n"
     ]
    },
    {
     "name": "stdout",
     "output_type": "stream",
     "text": [
      "(240500,)\n",
      "(240500,)\n"
     ]
    },
    {
     "data": {
      "text/plain": [
       "(array([1.000e+00, 2.000e+00, 0.000e+00, 0.000e+00, 1.000e+00, 2.000e+00,\n",
       "        1.000e+00, 0.000e+00, 2.000e+00, 0.000e+00, 3.000e+00, 2.000e+00,\n",
       "        2.000e+00, 0.000e+00, 6.000e+00, 2.000e+00, 3.000e+00, 2.000e+00,\n",
       "        3.000e+00, 4.000e+00, 2.000e+00, 6.000e+00, 8.000e+00, 7.000e+00,\n",
       "        5.000e+00, 6.000e+00, 1.300e+01, 9.000e+00, 2.100e+01, 1.200e+01,\n",
       "        1.900e+01, 2.500e+01, 2.300e+01, 3.400e+01, 4.900e+01, 5.200e+01,\n",
       "        8.200e+01, 9.500e+01, 1.700e+02, 2.770e+02, 2.400e+03, 4.332e+03,\n",
       "        4.620e+03, 4.625e+03, 4.360e+03, 4.149e+03, 3.923e+03, 3.906e+03,\n",
       "        3.520e+03, 3.365e+03, 3.139e+03, 3.104e+03, 2.871e+03, 2.731e+03,\n",
       "        2.576e+03, 2.493e+03, 2.327e+03, 2.259e+03, 2.148e+03, 1.977e+03,\n",
       "        2.013e+03, 1.913e+03, 1.884e+03, 1.727e+03, 1.571e+03, 1.607e+03,\n",
       "        1.489e+03, 1.452e+03, 1.414e+03, 1.369e+03, 1.291e+03, 1.243e+03,\n",
       "        1.195e+03, 1.170e+03, 1.159e+03, 1.017e+03, 1.001e+03, 8.990e+02,\n",
       "        8.990e+02, 9.450e+02, 8.940e+02, 8.550e+02, 8.440e+02, 8.300e+02,\n",
       "        7.900e+02, 7.700e+02, 7.140e+02, 7.130e+02, 6.670e+02, 6.820e+02,\n",
       "        6.420e+02, 6.350e+02, 6.200e+02, 6.090e+02, 5.510e+02, 5.760e+02,\n",
       "        5.410e+02, 5.130e+02, 5.230e+02, 5.270e+02]),\n",
       " array([-5. , -4.9, -4.8, -4.7, -4.6, -4.5, -4.4, -4.3, -4.2, -4.1, -4. ,\n",
       "        -3.9, -3.8, -3.7, -3.6, -3.5, -3.4, -3.3, -3.2, -3.1, -3. , -2.9,\n",
       "        -2.8, -2.7, -2.6, -2.5, -2.4, -2.3, -2.2, -2.1, -2. , -1.9, -1.8,\n",
       "        -1.7, -1.6, -1.5, -1.4, -1.3, -1.2, -1.1, -1. , -0.9, -0.8, -0.7,\n",
       "        -0.6, -0.5, -0.4, -0.3, -0.2, -0.1,  0. ,  0.1,  0.2,  0.3,  0.4,\n",
       "         0.5,  0.6,  0.7,  0.8,  0.9,  1. ,  1.1,  1.2,  1.3,  1.4,  1.5,\n",
       "         1.6,  1.7,  1.8,  1.9,  2. ,  2.1,  2.2,  2.3,  2.4,  2.5,  2.6,\n",
       "         2.7,  2.8,  2.9,  3. ,  3.1,  3.2,  3.3,  3.4,  3.5,  3.6,  3.7,\n",
       "         3.8,  3.9,  4. ,  4.1,  4.2,  4.3,  4.4,  4.5,  4.6,  4.7,  4.8,\n",
       "         4.9,  5. ]),\n",
       " <BarContainer object of 100 artists>)"
      ]
     },
     "execution_count": 10,
     "metadata": {},
     "output_type": "execute_result"
    },
    {
     "data": {
      "image/png": "[encoded data removed]",
      "text/plain": [
       "<Figure size 432x288 with 1 Axes>"
      ]
     },
     "metadata": {
      "needs_background": "light"
     },
     "output_type": "display_data"
    },
    {
     "data": {
      "image/png": "[encoded data removed]",
      "text/plain": [
       "<Figure size 432x288 with 1 Axes>"
      ]
     },
     "metadata": {
      "needs_background": "light"
     },
     "output_type": "display_data"
    }
   ],
   "source": [
    "diff = []\n",
    "output_px = []\n",
    "input_px = []\n",
    "for i in range(len(input_x)):\n",
    "    diff.append(((output_x[i][:,3]-input_x[i][:,3])/input_x[i][:,3]).flatten())\n",
    "    output_px.append(output_x[i][:,3].flatten())\n",
    "    input_px.append(input_x[i][:,3].flatten())\n",
    "    \n",
    "all_diff = np.concatenate(diff)\n",
    "all_input_px = np.concatenate(input_px)\n",
    "all_output_px = np.concatenate(output_px)\n",
    "\n",
    "print(all_input_px.shape)\n",
    "print(all_output_px.shape)\n",
    "\n",
    "plt.figure()\n",
    "plt.hist(all_input_px, bins=np.linspace(-1, 40, 101),alpha=0.5)\n",
    "plt.hist(all_output_px, bins=np.linspace(-1, 40, 101),alpha=0.5)\n",
    "\n",
    "plt.figure()\n",
    "plt.hist(all_diff, bins=np.linspace(-5, 5, 101))"
   ]
  }
 ],
 "metadata": {
  "kernelspec": {
   "display_name": "Python 3",
   "language": "python",
   "name": "python3"
  },
  "language_info": {
   "codemirror_mode": {
    "name": "ipython",
    "version": 3
   },
   "file_extension": ".py",
   "mimetype": "text/x-python",
   "name": "python",
   "nbconvert_exporter": "python",
   "pygments_lexer": "ipython3",
   "version": "3.7.6"
  }
 },
 "nbformat": 4,
 "nbformat_minor": 4
}
