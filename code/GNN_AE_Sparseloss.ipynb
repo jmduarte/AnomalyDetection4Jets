{
 "cells": [
  {
   "cell_type": "code",
   "execution_count": 1,
   "metadata": {},
   "outputs": [],
   "source": [
    "import pandas as pd\n",
    "import numpy as np\n",
    "import tqdm\n",
    "import torch\n",
    "import math"
   ]
  },
  {
   "cell_type": "markdown",
   "metadata": {},
   "source": [
    "# Pre processing + Define Model"
   ]
  },
  {
   "cell_type": "code",
   "execution_count": 2,
   "metadata": {},
   "outputs": [],
   "source": [
    "import torch.nn as nn\n",
    "import torch.nn.functional as F\n",
    "from torch_geometric.nn import EdgeConv, global_mean_pool\n",
    "\n",
    "class EdgeNet(nn.Module):\n",
    "    def __init__(self, input_dim=4, big_dim=32, hidden_dim=2, aggr='mean'):\n",
    "        super(EdgeNet, self).__init__()\n",
    "        encoder_nn = nn.Sequential(nn.Linear(2*(input_dim), big_dim),\n",
    "                               nn.ReLU(),\n",
    "                               nn.Linear(big_dim, big_dim),\n",
    "                               nn.ReLU(),\n",
    "                               nn.Linear(big_dim, hidden_dim),\n",
    "                               nn.ReLU(),\n",
    "        )\n",
    "        \n",
    "        decoder_nn = nn.Sequential(nn.Linear(2*(hidden_dim), big_dim),\n",
    "                               nn.ReLU(),\n",
    "                               nn.Linear(big_dim, big_dim),\n",
    "                               nn.ReLU(),\n",
    "                               nn.Linear(big_dim, input_dim)\n",
    "        )\n",
    "        \n",
    "        self.batchnorm = nn.BatchNorm1d(input_dim)\n",
    "\n",
    "        self.encoder = EdgeConv(nn=encoder_nn,aggr=aggr)\n",
    "        self.decoder = EdgeConv(nn=decoder_nn,aggr=aggr)\n",
    "\n",
    "    def forward(self, data):\n",
    "        data.x = self.batchnorm(data.x)\n",
    "        data.x = self.encoder(data.x,data.edge_index)\n",
    "        data.x = self.decoder(data.x,data.edge_index)\n",
    "        return data.x"
   ]
  },
  {
   "cell_type": "code",
   "execution_count": 3,
   "metadata": {},
   "outputs": [],
   "source": [
    "from torch_geometric.data import Data, DataLoader\n",
    "from torch.utils.data import random_split\n",
    "import os.path as osp\n",
    "import matplotlib.pyplot as plt\n",
    "from graph_data import GraphDataset\n",
    "\n",
    "gdata = GraphDataset(root='/anomalyvol/data/gnn_geom')\n",
    "\n",
    "input_dim = 4\n",
    "big_dim = 32\n",
    "hidden_dim = 2\n",
    "fulllen = len(gdata)\n",
    "tv_frac = 0.10\n",
    "tv_num = math.ceil(fulllen*tv_frac)\n",
    "batch_size = 1\n",
    "n_epochs = 100\n",
    "lr = 0.001\n",
    "patience = 10\n",
    "device = 'cuda:0'\n",
    "model_fname = 'EdgeNetSparseLoss'\n",
    "\n",
    "model = EdgeNet(input_dim=input_dim, big_dim=big_dim, hidden_dim=hidden_dim).to(device)\n",
    "optimizer = torch.optim.Adam(model.parameters(), lr = lr)"
   ]
  },
  {
   "cell_type": "code",
   "execution_count": 4,
   "metadata": {},
   "outputs": [
    {
     "name": "stdout",
     "output_type": "stream",
     "text": [
      "19233\n",
      "2405\n",
      "2405\n"
     ]
    }
   ],
   "source": [
    "torch.manual_seed(0)\n",
    "train_dataset, valid_dataset, test_dataset = random_split(gdata, [fulllen-2*tv_num,tv_num,tv_num])\n",
    "\n",
    "train_loader = DataLoader(train_dataset, batch_size=batch_size, pin_memory=True, shuffle=True)\n",
    "valid_loader = DataLoader(valid_dataset, batch_size=batch_size, pin_memory=True, shuffle=False)\n",
    "test_loader = DataLoader(test_dataset, batch_size=batch_size, pin_memory=True, shuffle=False)\n",
    "\n",
    "train_samples = len(train_dataset)\n",
    "valid_samples = len(valid_dataset)\n",
    "test_samples = len(test_dataset)\n",
    "\n",
    "print(train_samples)\n",
    "print(valid_samples)\n",
    "print(test_samples)"
   ]
  },
  {
   "cell_type": "code",
   "execution_count": 9,
   "metadata": {},
   "outputs": [],
   "source": [
    "@torch.no_grad()\n",
    "def test(model,loader,total,batch_size):\n",
    "    model.eval()\n",
    "\n",
    "    sum_loss = 0.\n",
    "    t = tqdm.tqdm(enumerate(loader),total=total/batch_size)\n",
    "    for i,data in t:\n",
    "        if data[0].x.shape[0] <= 1:\n",
    "            continue\n",
    "        data = data[0].to(device)\n",
    "        batch_output = model(data)\n",
    "        batch_loss_item = sparseloss3d(batch_output, data.y).item()\n",
    "        sum_loss += batch_loss_item\n",
    "        t.set_description(\"loss = %.5f\" % (batch_loss_item))\n",
    "        t.refresh() # to show immediately the update\n",
    "\n",
    "    return sum_loss/(i+1)\n",
    "\n",
    "def train(model, optimizer, loader, total, batch_size):\n",
    "    model.train()\n",
    "\n",
    "    sum_loss = 0.\n",
    "    t = tqdm.tqdm(enumerate(loader),total=total/batch_size)\n",
    "    for i,data in t:\n",
    "        if data[0].x.shape[0] <= 1:\n",
    "            continue\n",
    "        data = data[0].to(device)\n",
    "        optimizer.zero_grad()\n",
    "        batch_output = model(data)\n",
    "        batch_loss = sparseloss3d(batch_output, data.y)\n",
    "        batch_loss.backward()\n",
    "        batch_loss_item = batch_loss.item()\n",
    "        t.set_description(\"loss = %.5f\" % batch_loss_item)\n",
    "        t.refresh() # to show immediately the update\n",
    "        sum_loss += batch_loss_item\n",
    "        optimizer.step()\n",
    "    \n",
    "    return sum_loss/(i+1)"
   ]
  },
  {
   "cell_type": "code",
   "execution_count": 6,
   "metadata": {},
   "outputs": [],
   "source": [
    "def sparseloss3d(x,y):\n",
    "    nparts = x.shape[0]\n",
    "    dist = torch.pow(torch.cdist(x,y),2)\n",
    "    in_dist_out = torch.min(dist,dim=0)\n",
    "    out_dist_in = torch.min(dist,dim=1)\n",
    "    loss = torch.sum(in_dist_out.values + out_dist_in.values) / nparts\n",
    "    return loss"
   ]
  },
  {
   "cell_type": "code",
   "execution_count": 7,
   "metadata": {},
   "outputs": [],
   "source": [
    "modpath = osp.join('/anomalyvol/models/gnn/',model_fname+'.best.pth')"
   ]
  },
  {
   "cell_type": "markdown",
   "metadata": {},
   "source": [
    "# Train"
   ]
  },
  {
   "cell_type": "code",
   "execution_count": null,
   "metadata": {
    "scrolled": true
   },
   "outputs": [
    {
     "name": "stderr",
     "output_type": "stream",
     "text": [
      "loss = 11162.38672: 100%|██████████| 19233/19233.0 [21:49<00:00, 14.69it/s]  \n",
      "loss = 4051.16455: 100%|██████████| 2405/2405.0 [03:37<00:00, 11.04it/s]  \n",
      "  0%|          | 0/19233.0 [00:00<?, ?it/s]"
     ]
    },
    {
     "name": "stdout",
     "output_type": "stream",
     "text": [
      "Epoch: 00, Training Loss:   16614.1995\n",
      "               Validation Loss: 10895.7542\n",
      "New best model saved to: /anomalyvol/models/gnn/EdgeNetSparseLoss.best.pth\n"
     ]
    },
    {
     "name": "stderr",
     "output_type": "stream",
     "text": [
      "loss = 13285.21875:   1%|▏         | 278/19233.0 [00:26<24:36, 12.84it/s] "
     ]
    }
   ],
   "source": [
    "stale_epochs = 0\n",
    "best_valid_loss = 99999\n",
    "for epoch in range(0, n_epochs):\n",
    "    loss = train(model, optimizer, train_loader, train_samples, batch_size)\n",
    "    valid_loss = test(model, valid_loader, valid_samples, batch_size)\n",
    "    print('Epoch: {:02d}, Training Loss:   {:.4f}'.format(epoch, loss))\n",
    "    print('               Validation Loss: {:.4f}'.format(valid_loss))\n",
    "\n",
    "    if valid_loss < best_valid_loss:\n",
    "        best_valid_loss = valid_loss\n",
    "        modpath = osp.join('/anomalyvol/models/gnn/',model_fname+'.best.pth')\n",
    "        print('New best model saved to:',modpath)\n",
    "        torch.save(model.state_dict(),modpath)\n",
    "        stale_epochs = 0\n",
    "    else:\n",
    "        print('Stale epoch')\n",
    "        stale_epochs += 1\n",
    "    if stale_epochs >= patience:\n",
    "        print('Early stopping after %i stale epochs'%patience)\n",
    "        break"
   ]
  },
  {
   "cell_type": "markdown",
   "metadata": {},
   "source": [
    "# Visualize"
   ]
  },
  {
   "cell_type": "code",
   "execution_count": null,
   "metadata": {},
   "outputs": [],
   "source": [
    "model.load_state_dict(torch.load(modpath))\n",
    "input_x = []\n",
    "output_x = []\n",
    "\n",
    "t = tqdm.tqdm(enumerate(test_loader),total=test_samples/batch_size)\n",
    "for i, data in t:\n",
    "    data[0].to(device)\n",
    "    input_x.append(data[0].x.cpu().numpy())\n",
    "    output_x.append(model(data[0]).cpu().detach().numpy())\n",
    "    del data\n",
    "    torch.cuda.empty_cache()"
   ]
  },
  {
   "cell_type": "code",
   "execution_count": null,
   "metadata": {},
   "outputs": [],
   "source": [
    "def in_out_diff_append(diff, output, inputs, i, ft_idx): # helper for appending 3 lists\n",
    "    diff.append(((output_x[i][:,ft_idx]-input_x[i][:,ft_idx])/input_x[i][:,ft_idx]).flatten())\n",
    "    output.append(output_x[i][:,ft_idx].flatten())\n",
    "    inputs.append(input_x[i][:,ft_idx].flatten())\n",
    "\n",
    "def in_out_diff_concat(diff, output, inputs):\n",
    "    diff = np.concatenate(diff)\n",
    "    output = np.concatenate(output)\n",
    "    inputs = np.concatenate(inputs)\n",
    "    return [diff, output, inputs]\n",
    "\n",
    "def make_hists(diff, output, inputs, bin1):\n",
    "    plt.figure()\n",
    "    plt.hist(inputs, bins=bin1,alpha=0.5)\n",
    "    plt.hist(output, bins=bin1,alpha=0.5)\n",
    "    plt.show()\n",
    "\n",
    "    plt.figure()\n",
    "    plt.hist(diff, bins=np.linspace(-5, 5, 101))\n",
    "    plt.show()"
   ]
  },
  {
   "cell_type": "code",
   "execution_count": null,
   "metadata": {
    "scrolled": true
   },
   "outputs": [],
   "source": [
    "diff_px = []\n",
    "output_px = []\n",
    "input_px = []\n",
    "diff_py = []\n",
    "output_py = []\n",
    "input_py = []\n",
    "diff_pz = []\n",
    "output_pz = []\n",
    "input_pz = []\n",
    "diff_e = []\n",
    "output_e = []\n",
    "input_e = []\n",
    "\n",
    "# get output in readable format\n",
    "for i in range(len(input_x)):\n",
    "    # px\n",
    "    in_out_diff_append(diff_px, output_px, input_px, i, 0)\n",
    "    in_out_diff_append(diff_py, output_py, input_py, i, 1)\n",
    "    in_out_diff_append(diff_pz, output_pz, input_pz, i, 2)\n",
    "    in_out_diff_append(diff_e, output_e, input_e, i, 3)\n",
    "\n",
    "# remove extra brackets\n",
    "diff_px, output_px, input_px = in_out_diff_concat(diff_px, output_px, input_px)\n",
    "diff_py, output_py, input_py = in_out_diff_concat(diff_py, output_py, input_py)\n",
    "diff_pz, output_pz, input_pz = in_out_diff_concat(diff_pz, output_pz, input_pz)\n",
    "diff_e, output_e, input_e = in_out_diff_concat(diff_e, output_e, input_e)\n",
    "\n",
    "print(\"px\")\n",
    "bins = np.linspace(-40, 40, 101)\n",
    "make_hists(diff_px, output_px, input_px, bins)\n",
    "\n",
    "print(\"py\")\n",
    "make_hists(diff_py, output_py, input_py, bins)\n",
    "\n",
    "print(\"pz\")\n",
    "make_hists(diff_pz, output_pz, input_pz, bins)\n",
    "\n",
    "print(\"e\")\n",
    "bins = np.linspace(-5, 40, 101)\n",
    "make_hists(diff_e, output_e, input_e, bins)"
   ]
  },
  {
   "cell_type": "markdown",
   "metadata": {},
   "source": [
    "# Bump Hunt"
   ]
  },
  {
   "cell_type": "code",
   "execution_count": null,
   "metadata": {},
   "outputs": [],
   "source": [
    "# m_12 = sqrt ( (E_1 + E_2)^2 - (p_x1 + p_x2)^2 - (p_y1 + p_y2)^2 - (p_z1 + p_z2)^2 )\n",
    "def invariant_mass(jet1, jet2):\n",
    "    return math.sqrt((jet1.e + jet2.e)**2 - (jet1.px + jet2.px)**2 - (jet1.py + jet2.py)**2 - (jet1.pz + jet2.pz)**2)"
   ]
  },
  {
   "cell_type": "code",
   "execution_count": null,
   "metadata": {},
   "outputs": [],
   "source": [
    "# generates bump hunt histograms for given dataset\n",
    "def bump_hunt(dataset, cut=0.995):\n",
    "    \n",
    "    # get losses and other useful jet info\n",
    "    losses = []\n",
    "    event_idx = []\n",
    "    masses = []\n",
    "    px = []\n",
    "    py = []\n",
    "    pz = []\n",
    "    e = []\n",
    "    model.eval()\n",
    "    t = tqdm.tqdm(enumerate(dataset))\n",
    "    for i, data in t:\n",
    "        event_idx.append(data[1])\n",
    "        masses.append(data[2])\n",
    "        px.append(data[3])\n",
    "        py.append(data[4])\n",
    "        pz.append(data[5])\n",
    "        e.append(data[6])\n",
    "        try:\n",
    "            with torch.no_grad():\n",
    "                data = data[0].to(device)\n",
    "                batch_output = model(data)\n",
    "                batch_loss_item = sparseloss3d(batch_output, data.y).item()\n",
    "                losses.append(batch_loss_item)\n",
    "        except:\n",
    "            losses.append(0) # model can't evaluate tiny jet\n",
    "\n",
    "    # make a cut on the loss\n",
    "    loss_thresh = np.quantile(losses, cut)\n",
    "    outliers = losses > loss_thresh\n",
    "    \n",
    "    # create dataframe; jet per row\n",
    "    d = {'event':event_idx, 'mass':masses, 'outlier':outliers, 'px':px, 'py':py, 'pz':pz, 'e':e}\n",
    "    df = pd.DataFrame(d)\n",
    "\n",
    "    # calculate invariant dijet mass using leading 2 jets of all events\n",
    "    dijet_mass = []\n",
    "    outlier_mass = []\n",
    "    for event, group in df.groupby(['event']):\n",
    "        try:\n",
    "            im = invariant_mass(group.iloc[0], group.iloc[1])\n",
    "            dijet_mass.append(im)\n",
    "            \n",
    "            # if one of leading 2 jets is outlier then get dijet invariant mass\n",
    "            if group.iloc[0].outlier == True or group.iloc[1].outlier == True:\n",
    "                outlier_mass.append(im)\n",
    "        except:\n",
    "            pass # when event only has 1 jet\n",
    "\n",
    "    # plot mjj bump histograms\n",
    "    bins = np.linspace(1000, 6000, 51)\n",
    "    weights = np.ones_like(outlier_mass) / len(outlier_mass)\n",
    "    plt.hist(np.array(outlier_mass), alpha = 0.5, bins=bins, weights=weights)\n",
    "    weights = np.ones_like(dijet_mass) / len(dijet_mass)\n",
    "    plt.hist(np.array(dijet_mass), alpha = 0.5, bins=bins, weights=weights)\n",
    "    plt.show()"
   ]
  },
  {
   "cell_type": "code",
   "execution_count": null,
   "metadata": {},
   "outputs": [],
   "source": [
    "bb1_data = GraphDataset(root='/anomalyvol/data/gnn_geom/full', bb=1)\n",
    "bump_hunt(bb1_data)"
   ]
  },
  {
   "cell_type": "code",
   "execution_count": null,
   "metadata": {},
   "outputs": [],
   "source": [
    "bb2_data = GraphDataset(root='/anomalyvol/data/gnn_geom/full', bb=2)\n",
    "bump_hunt(bb2_data)"
   ]
  },
  {
   "cell_type": "code",
   "execution_count": null,
   "metadata": {},
   "outputs": [],
   "source": [
    "bb3_data = GraphDataset(root='/anomalyvol/data/gnn_geom/full', bb=3)\n",
    "bump_hunt(bb3_data)"
   ]
  }
 ],
 "metadata": {
  "kernelspec": {
   "display_name": "Python 3",
   "language": "python",
   "name": "python3"
  },
  "language_info": {
   "codemirror_mode": {
    "name": "ipython",
    "version": 3
   },
   "file_extension": ".py",
   "mimetype": "text/x-python",
   "name": "python",
   "nbconvert_exporter": "python",
   "pygments_lexer": "ipython3",
   "version": "3.7.6"
  }
 },
 "nbformat": 4,
 "nbformat_minor": 4
}
