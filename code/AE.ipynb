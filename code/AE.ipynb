{
 "cells": [
  {
   "cell_type": "code",
   "execution_count": 1,
   "metadata": {},
   "outputs": [],
   "source": [
    "import pandas as pd\n",
    "import numpy as np\n",
    "from pyjet import cluster,DTYPE_PTEPM\n",
    "from sklearn import preprocessing\n",
    "from scipy.stats import iqr\n",
    "import tensorflow as tf\n",
    "import math"
   ]
  },
  {
   "cell_type": "markdown",
   "metadata": {},
   "source": [
    "# Pre processing"
   ]
  },
  {
   "cell_type": "code",
   "execution_count": 2,
   "metadata": {},
   "outputs": [],
   "source": [
    "path = '/anomalyvol/data/jet_ver/bb1_ae_input_leading2.h5'  # just leading 2 tags for each event"
   ]
  },
  {
   "cell_type": "code",
   "execution_count": 3,
   "metadata": {},
   "outputs": [],
   "source": [
    "chunk_size = 100000\n",
    "total_size = 1000000 # 1 mil max\n",
    "\n",
    "def generator(path, chunk_size=10000,total_size=1000000):\n",
    "    i = 0\n",
    "    \n",
    "    while True:\n",
    "        yield pd.read_hdf(path,start=i*chunk_size, stop=(i+1)*chunk_size)\n",
    "        \n",
    "        i+=1\n",
    "        if (i+1)*chunk_size > total_size:\n",
    "            i=0\n",
    "\n",
    "gen = generator(path, chunk_size, total_size)"
   ]
  },
  {
   "cell_type": "code",
   "execution_count": 4,
   "metadata": {},
   "outputs": [],
   "source": [
    "data = next(gen)\n",
    "\n",
    "for i in range(total_size // chunk_size - 1):\n",
    "    data.append(next(gen))"
   ]
  },
  {
   "cell_type": "code",
   "execution_count": 5,
   "metadata": {},
   "outputs": [],
   "source": [
    "loaded_data = data\n",
    "# data = loaded_data"
   ]
  },
  {
   "cell_type": "code",
   "execution_count": 6,
   "metadata": {},
   "outputs": [
    {
     "data": {
      "text/html": [
       "<div>\n",
       "<style scoped>\n",
       "    .dataframe tbody tr th:only-of-type {\n",
       "        vertical-align: middle;\n",
       "    }\n",
       "\n",
       "    .dataframe tbody tr th {\n",
       "        vertical-align: top;\n",
       "    }\n",
       "\n",
       "    .dataframe thead th {\n",
       "        text-align: right;\n",
       "    }\n",
       "</style>\n",
       "<table border=\"1\" class=\"dataframe\">\n",
       "  <thead>\n",
       "    <tr style=\"text-align: right;\">\n",
       "      <th></th>\n",
       "      <th>px</th>\n",
       "      <th>py</th>\n",
       "      <th>pz</th>\n",
       "      <th>e</th>\n",
       "      <th>pt</th>\n",
       "      <th>eta</th>\n",
       "      <th>phi</th>\n",
       "      <th>mass</th>\n",
       "      <th>event</th>\n",
       "    </tr>\n",
       "  </thead>\n",
       "  <tbody>\n",
       "    <tr>\n",
       "      <th>0</th>\n",
       "      <td>1200.201700</td>\n",
       "      <td>714.940197</td>\n",
       "      <td>-1176.756007</td>\n",
       "      <td>1834.490410</td>\n",
       "      <td>1397.005228</td>\n",
       "      <td>-0.765391</td>\n",
       "      <td>0.537239</td>\n",
       "      <td>170.225610</td>\n",
       "      <td>0</td>\n",
       "    </tr>\n",
       "    <tr>\n",
       "      <th>1</th>\n",
       "      <td>-1240.890636</td>\n",
       "      <td>-526.559303</td>\n",
       "      <td>306.056940</td>\n",
       "      <td>1446.853969</td>\n",
       "      <td>1347.988973</td>\n",
       "      <td>0.225140</td>\n",
       "      <td>-2.740281</td>\n",
       "      <td>427.365520</td>\n",
       "      <td>0</td>\n",
       "    </tr>\n",
       "    <tr>\n",
       "      <th>2</th>\n",
       "      <td>739.259562</td>\n",
       "      <td>-1036.760171</td>\n",
       "      <td>461.171755</td>\n",
       "      <td>1393.391014</td>\n",
       "      <td>1273.332773</td>\n",
       "      <td>0.354693</td>\n",
       "      <td>-0.951367</td>\n",
       "      <td>327.845663</td>\n",
       "      <td>1</td>\n",
       "    </tr>\n",
       "    <tr>\n",
       "      <th>3</th>\n",
       "      <td>-539.447817</td>\n",
       "      <td>882.478447</td>\n",
       "      <td>-385.129511</td>\n",
       "      <td>1108.799742</td>\n",
       "      <td>1034.297905</td>\n",
       "      <td>-0.364250</td>\n",
       "      <td>2.119474</td>\n",
       "      <td>106.489303</td>\n",
       "      <td>1</td>\n",
       "    </tr>\n",
       "    <tr>\n",
       "      <th>4</th>\n",
       "      <td>1204.312395</td>\n",
       "      <td>-398.313157</td>\n",
       "      <td>-1602.415160</td>\n",
       "      <td>2045.001255</td>\n",
       "      <td>1268.472197</td>\n",
       "      <td>-1.055852</td>\n",
       "      <td>-0.319414</td>\n",
       "      <td>72.622808</td>\n",
       "      <td>2</td>\n",
       "    </tr>\n",
       "    <tr>\n",
       "      <th>...</th>\n",
       "      <td>...</td>\n",
       "      <td>...</td>\n",
       "      <td>...</td>\n",
       "      <td>...</td>\n",
       "      <td>...</td>\n",
       "      <td>...</td>\n",
       "      <td>...</td>\n",
       "      <td>...</td>\n",
       "      <td>...</td>\n",
       "    </tr>\n",
       "    <tr>\n",
       "      <th>99995</th>\n",
       "      <td>-95.865087</td>\n",
       "      <td>-913.811510</td>\n",
       "      <td>-223.447285</td>\n",
       "      <td>949.028571</td>\n",
       "      <td>918.826203</td>\n",
       "      <td>-0.240852</td>\n",
       "      <td>-1.675321</td>\n",
       "      <td>80.529179</td>\n",
       "      <td>49997</td>\n",
       "    </tr>\n",
       "    <tr>\n",
       "      <th>99996</th>\n",
       "      <td>1196.069906</td>\n",
       "      <td>-371.710338</td>\n",
       "      <td>-1428.538653</td>\n",
       "      <td>1903.169962</td>\n",
       "      <td>1252.498222</td>\n",
       "      <td>-0.977352</td>\n",
       "      <td>-0.301314</td>\n",
       "      <td>112.166949</td>\n",
       "      <td>49998</td>\n",
       "    </tr>\n",
       "    <tr>\n",
       "      <th>99997</th>\n",
       "      <td>-641.584202</td>\n",
       "      <td>575.244929</td>\n",
       "      <td>42.890272</td>\n",
       "      <td>913.313263</td>\n",
       "      <td>861.705876</td>\n",
       "      <td>0.049753</td>\n",
       "      <td>2.410659</td>\n",
       "      <td>299.607281</td>\n",
       "      <td>49998</td>\n",
       "    </tr>\n",
       "    <tr>\n",
       "      <th>99998</th>\n",
       "      <td>-1516.300536</td>\n",
       "      <td>-393.969368</td>\n",
       "      <td>-571.031647</td>\n",
       "      <td>1684.940168</td>\n",
       "      <td>1566.645837</td>\n",
       "      <td>-0.356870</td>\n",
       "      <td>-2.887391</td>\n",
       "      <td>242.006300</td>\n",
       "      <td>49999</td>\n",
       "    </tr>\n",
       "    <tr>\n",
       "      <th>99999</th>\n",
       "      <td>1359.701528</td>\n",
       "      <td>717.270844</td>\n",
       "      <td>-710.903931</td>\n",
       "      <td>1848.613457</td>\n",
       "      <td>1537.291680</td>\n",
       "      <td>-0.447367</td>\n",
       "      <td>0.485421</td>\n",
       "      <td>740.757452</td>\n",
       "      <td>49999</td>\n",
       "    </tr>\n",
       "  </tbody>\n",
       "</table>\n",
       "<p>100000 rows × 9 columns</p>\n",
       "</div>"
      ],
      "text/plain": [
       "                px           py           pz            e           pt  \\\n",
       "0      1200.201700   714.940197 -1176.756007  1834.490410  1397.005228   \n",
       "1     -1240.890636  -526.559303   306.056940  1446.853969  1347.988973   \n",
       "2       739.259562 -1036.760171   461.171755  1393.391014  1273.332773   \n",
       "3      -539.447817   882.478447  -385.129511  1108.799742  1034.297905   \n",
       "4      1204.312395  -398.313157 -1602.415160  2045.001255  1268.472197   \n",
       "...            ...          ...          ...          ...          ...   \n",
       "99995   -95.865087  -913.811510  -223.447285   949.028571   918.826203   \n",
       "99996  1196.069906  -371.710338 -1428.538653  1903.169962  1252.498222   \n",
       "99997  -641.584202   575.244929    42.890272   913.313263   861.705876   \n",
       "99998 -1516.300536  -393.969368  -571.031647  1684.940168  1566.645837   \n",
       "99999  1359.701528   717.270844  -710.903931  1848.613457  1537.291680   \n",
       "\n",
       "            eta       phi        mass  event  \n",
       "0     -0.765391  0.537239  170.225610      0  \n",
       "1      0.225140 -2.740281  427.365520      0  \n",
       "2      0.354693 -0.951367  327.845663      1  \n",
       "3     -0.364250  2.119474  106.489303      1  \n",
       "4     -1.055852 -0.319414   72.622808      2  \n",
       "...         ...       ...         ...    ...  \n",
       "99995 -0.240852 -1.675321   80.529179  49997  \n",
       "99996 -0.977352 -0.301314  112.166949  49998  \n",
       "99997  0.049753  2.410659  299.607281  49998  \n",
       "99998 -0.356870 -2.887391  242.006300  49999  \n",
       "99999 -0.447367  0.485421  740.757452  49999  \n",
       "\n",
       "[100000 rows x 9 columns]"
      ]
     },
     "execution_count": 6,
     "metadata": {},
     "output_type": "execute_result"
    }
   ],
   "source": [
    "loaded_data"
   ]
  },
  {
   "cell_type": "code",
   "execution_count": 7,
   "metadata": {},
   "outputs": [
    {
     "data": {
      "text/plain": [
       "(100000, 4)"
      ]
     },
     "execution_count": 7,
     "metadata": {},
     "output_type": "execute_result"
    }
   ],
   "source": [
    "data = np.array(data)\n",
    "data = data[:,:4]  # just keep px, py, pz, e\n",
    "data.shape"
   ]
  },
  {
   "cell_type": "code",
   "execution_count": 8,
   "metadata": {},
   "outputs": [],
   "source": [
    "# splitting data\n",
    "x_train = data[0:int(len(data) * 0.8)]\n",
    "x_val = data[int(len(data) * 0.8):int(len(data) * 0.9)]\n",
    "x_test = data[int(len(data) * 0.9):]"
   ]
  },
  {
   "cell_type": "code",
   "execution_count": 9,
   "metadata": {},
   "outputs": [],
   "source": [
    "# regularize\n",
    "scaler = preprocessing.StandardScaler()\n",
    "x_train = scaler.fit_transform(x_train)\n",
    "x_val = scaler.transform(x_val)\n",
    "x_test = scaler.transform(x_test)"
   ]
  },
  {
   "cell_type": "code",
   "execution_count": 10,
   "metadata": {},
   "outputs": [
    {
     "name": "stdout",
     "output_type": "stream",
     "text": [
      "[0.99414903 1.         0.70550968 0.63819661]\n"
     ]
    }
   ],
   "source": [
    "# get the inverse iqr proportion for each feature used to scale their weights in the loss function\n",
    "iqr_prop = iqr(x_train,axis = 0)\n",
    "max_iqr = max(iqr_prop)\n",
    "iqr_prop = np.array(iqr_prop) / max_iqr\n",
    "print(iqr_prop)"
   ]
  },
  {
   "cell_type": "markdown",
   "metadata": {},
   "source": [
    "# VAE Model"
   ]
  },
  {
   "cell_type": "code",
   "execution_count": 11,
   "metadata": {},
   "outputs": [
    {
     "name": "stderr",
     "output_type": "stream",
     "text": [
      "Using TensorFlow backend.\n"
     ]
    }
   ],
   "source": [
    "import keras\n",
    "from keras.layers import Lambda, Input, Dense, Flatten, Reshape, LeakyReLU, ELU\n",
    "from keras.models import Model, Sequential\n",
    "from keras import metrics, losses\n",
    "from keras import backend as K"
   ]
  },
  {
   "cell_type": "code",
   "execution_count": 12,
   "metadata": {},
   "outputs": [],
   "source": [
    "def sampling(args):\n",
    "    \"\"\"\n",
    "    # Arguments\n",
    "        args (tensor): mean and log of variance of Q(z|X)\n",
    "    # Returns\n",
    "        z (tensor): sampled latent vector\n",
    "    \"\"\"\n",
    "\n",
    "    z_mean, z_log_var = args\n",
    "    batch = K.shape(z_mean)[0]\n",
    "    dim = K.int_shape(z_mean)[1]\n",
    "    # by default, random_normal has mean = 0 and std = 1.0\n",
    "    epsilon = K.random_normal(shape=(batch, dim))\n",
    "    return z_mean + K.exp(0.5 * z_log_var) * epsilon"
   ]
  },
  {
   "cell_type": "code",
   "execution_count": 13,
   "metadata": {},
   "outputs": [],
   "source": [
    "inter_dim_1 = 32\n",
    "inter_dim_2 = 16\n",
    "final_dim = 8\n",
    "latent_dim = 2\n",
    "input_dim = 4"
   ]
  },
  {
   "cell_type": "code",
   "execution_count": 14,
   "metadata": {},
   "outputs": [],
   "source": [
    "# encoder\n",
    "x = Input(shape=(input_dim,))\n",
    "#x_flat = Flatten()(x)\n",
    "h1 = Dense(inter_dim_1, activation='relu')(x)\n",
    "h2 = Dense(inter_dim_2, activation='relu')(h1)\n",
    "h3 = Dense(final_dim, activation='relu')(h2)\n",
    "encoding = Dense(latent_dim, activation='tanh')(h3)"
   ]
  },
  {
   "cell_type": "code",
   "execution_count": 15,
   "metadata": {},
   "outputs": [],
   "source": [
    "# decoder\n",
    "decoder_h3 = Dense(final_dim, activation='relu')\n",
    "decoder_h2 = Dense(inter_dim_2, activation='relu')\n",
    "decoder_h1 = Dense(inter_dim_1, activation='relu')\n",
    "decoder_mean = Dense(input_dim, activation='linear')\n",
    "\n",
    "h3_decoded = decoder_h3(encoding)\n",
    "h2_decoded = decoder_h2(h3_decoded)\n",
    "h1_decoded = decoder_h1(h2_decoded)\n",
    "x_decoded_mean = decoder_mean(h1_decoded)\n",
    "# x_decoded = Reshape(input_shape)(x_decoded_mean)"
   ]
  },
  {
   "cell_type": "code",
   "execution_count": 16,
   "metadata": {},
   "outputs": [],
   "source": [
    "vae = Model(inputs = x, outputs = x_decoded_mean, name = 'ae')"
   ]
  },
  {
   "cell_type": "code",
   "execution_count": 17,
   "metadata": {},
   "outputs": [],
   "source": [
    "mse = keras.losses.MeanSquaredError()\n",
    "def ae_loss(x, y):\n",
    "    mse_loss = 0.25 * (iqr_prop[0]*(x[::,0] - y[::,0])**2 + iqr_prop[1]*(x[::,1] - y[::,1])**2 + iqr_prop[2]*(x[::,2] - y[::,2])**2 + iqr_prop[3]*(x[::,3] - y[::,3])**2)\n",
    "    # mse_loss = mse(x,y)\n",
    "    return mse_loss\n",
    "\n",
    "def earth_mover_loss(y_true, y_pred): # source: https://github.com/titu1994/neural-image-assessment/blob/master/train_mobilenet.py#L49\n",
    "    cdf_ytrue = K.cumsum(y_true, axis=-1)\n",
    "    cdf_ypred = K.cumsum(y_pred, axis=-1)\n",
    "    samplewise_emd = K.sqrt(K.mean(K.square(K.abs(cdf_ytrue - cdf_ypred)), axis=-1))\n",
    "    return K.mean(samplewise_emd)\n",
    "\n",
    "vae.compile(optimizer='adam', loss=ae_loss)"
   ]
  },
  {
   "cell_type": "code",
   "execution_count": 18,
   "metadata": {},
   "outputs": [
    {
     "name": "stdout",
     "output_type": "stream",
     "text": [
      "Model: \"ae\"\n",
      "_________________________________________________________________\n",
      "Layer (type)                 Output Shape              Param #   \n",
      "=================================================================\n",
      "input_1 (InputLayer)         (None, 4)                 0         \n",
      "_________________________________________________________________\n",
      "dense_1 (Dense)              (None, 32)                160       \n",
      "_________________________________________________________________\n",
      "dense_2 (Dense)              (None, 16)                528       \n",
      "_________________________________________________________________\n",
      "dense_3 (Dense)              (None, 8)                 136       \n",
      "_________________________________________________________________\n",
      "dense_4 (Dense)              (None, 2)                 18        \n",
      "_________________________________________________________________\n",
      "dense_5 (Dense)              (None, 8)                 24        \n",
      "_________________________________________________________________\n",
      "dense_6 (Dense)              (None, 16)                144       \n",
      "_________________________________________________________________\n",
      "dense_7 (Dense)              (None, 32)                544       \n",
      "_________________________________________________________________\n",
      "dense_8 (Dense)              (None, 4)                 132       \n",
      "=================================================================\n",
      "Total params: 1,686\n",
      "Trainable params: 1,686\n",
      "Non-trainable params: 0\n",
      "_________________________________________________________________\n"
     ]
    }
   ],
   "source": [
    "vae.summary()"
   ]
  },
  {
   "cell_type": "markdown",
   "metadata": {},
   "source": [
    "# Train"
   ]
  },
  {
   "cell_type": "code",
   "execution_count": 19,
   "metadata": {},
   "outputs": [],
   "source": [
    "from sklearn.model_selection import train_test_split"
   ]
  },
  {
   "cell_type": "code",
   "execution_count": 20,
   "metadata": {},
   "outputs": [],
   "source": [
    "batch_size = 1000\n",
    "epochs = 400"
   ]
  },
  {
   "cell_type": "code",
   "execution_count": 21,
   "metadata": {},
   "outputs": [
    {
     "data": {
      "text/plain": [
       "(80000, 4)"
      ]
     },
     "execution_count": 21,
     "metadata": {},
     "output_type": "execute_result"
    }
   ],
   "source": [
    "x_train.shape"
   ]
  },
  {
   "cell_type": "code",
   "execution_count": 22,
   "metadata": {},
   "outputs": [],
   "source": [
    "my_callbacks = [\n",
    "    keras.callbacks.EarlyStopping(patience=10)\n",
    "]"
   ]
  },
  {
   "cell_type": "code",
   "execution_count": 23,
   "metadata": {
    "scrolled": false
   },
   "outputs": [
    {
     "name": "stdout",
     "output_type": "stream",
     "text": [
      "Train on 80000 samples, validate on 10000 samples\n",
      "Epoch 1/400\n",
      "80000/80000 [==============================] - 1s 14us/step - loss: 0.6917 - val_loss: 0.5532\n",
      "Epoch 2/400\n",
      "80000/80000 [==============================] - 0s 5us/step - loss: 0.4065 - val_loss: 0.3078\n",
      "Epoch 3/400\n",
      "80000/80000 [==============================] - 0s 5us/step - loss: 0.2732 - val_loss: 0.2279\n",
      "Epoch 4/400\n",
      "80000/80000 [==============================] - 0s 5us/step - loss: 0.2015 - val_loss: 0.1740\n",
      "Epoch 5/400\n",
      "80000/80000 [==============================] - 0s 5us/step - loss: 0.1636 - val_loss: 0.1466\n",
      "Epoch 6/400\n",
      "80000/80000 [==============================] - 0s 5us/step - loss: 0.1419 - val_loss: 0.1300\n",
      "Epoch 7/400\n",
      "80000/80000 [==============================] - 0s 5us/step - loss: 0.1277 - val_loss: 0.1191\n",
      "Epoch 8/400\n",
      "80000/80000 [==============================] - 0s 5us/step - loss: 0.1183 - val_loss: 0.1101\n",
      "Epoch 9/400\n",
      "80000/80000 [==============================] - 0s 5us/step - loss: 0.1117 - val_loss: 0.1059\n",
      "Epoch 10/400\n",
      "80000/80000 [==============================] - 0s 5us/step - loss: 0.1064 - val_loss: 0.1014\n",
      "Epoch 11/400\n",
      "80000/80000 [==============================] - 0s 5us/step - loss: 0.1040 - val_loss: 0.0995\n",
      "Epoch 12/400\n",
      "80000/80000 [==============================] - 0s 5us/step - loss: 0.1012 - val_loss: 0.0956\n",
      "Epoch 13/400\n",
      "80000/80000 [==============================] - 0s 5us/step - loss: 0.0977 - val_loss: 0.0929\n",
      "Epoch 14/400\n",
      "80000/80000 [==============================] - 0s 5us/step - loss: 0.0955 - val_loss: 0.0910\n",
      "Epoch 15/400\n",
      "80000/80000 [==============================] - 0s 5us/step - loss: 0.0931 - val_loss: 0.0891\n",
      "Epoch 16/400\n",
      "80000/80000 [==============================] - 0s 5us/step - loss: 0.0910 - val_loss: 0.0881\n",
      "Epoch 17/400\n",
      "80000/80000 [==============================] - 0s 5us/step - loss: 0.0895 - val_loss: 0.0856\n",
      "Epoch 18/400\n",
      "80000/80000 [==============================] - 0s 5us/step - loss: 0.0884 - val_loss: 0.0851\n",
      "Epoch 19/400\n",
      "80000/80000 [==============================] - 0s 5us/step - loss: 0.0869 - val_loss: 0.0847\n",
      "Epoch 20/400\n",
      "80000/80000 [==============================] - 0s 5us/step - loss: 0.0861 - val_loss: 0.0840\n",
      "Epoch 21/400\n",
      "80000/80000 [==============================] - 0s 5us/step - loss: 0.0855 - val_loss: 0.0818\n",
      "Epoch 22/400\n",
      "80000/80000 [==============================] - 0s 5us/step - loss: 0.0841 - val_loss: 0.0820\n",
      "Epoch 23/400\n",
      "80000/80000 [==============================] - 0s 5us/step - loss: 0.0830 - val_loss: 0.0810\n",
      "Epoch 24/400\n",
      "80000/80000 [==============================] - 0s 5us/step - loss: 0.0823 - val_loss: 0.0799\n",
      "Epoch 25/400\n",
      "80000/80000 [==============================] - 0s 5us/step - loss: 0.0812 - val_loss: 0.0795\n",
      "Epoch 26/400\n",
      "80000/80000 [==============================] - 0s 5us/step - loss: 0.0806 - val_loss: 0.0790\n",
      "Epoch 27/400\n",
      "80000/80000 [==============================] - 0s 5us/step - loss: 0.0804 - val_loss: 0.0801\n",
      "Epoch 28/400\n",
      "80000/80000 [==============================] - 0s 5us/step - loss: 0.0797 - val_loss: 0.0787\n",
      "Epoch 29/400\n",
      "80000/80000 [==============================] - 0s 5us/step - loss: 0.0788 - val_loss: 0.0768\n",
      "Epoch 30/400\n",
      "80000/80000 [==============================] - 0s 5us/step - loss: 0.0782 - val_loss: 0.0780\n",
      "Epoch 31/400\n",
      "80000/80000 [==============================] - 0s 5us/step - loss: 0.0774 - val_loss: 0.0775\n",
      "Epoch 32/400\n",
      "80000/80000 [==============================] - 0s 5us/step - loss: 0.0765 - val_loss: 0.0750\n",
      "Epoch 33/400\n",
      "80000/80000 [==============================] - 0s 5us/step - loss: 0.0755 - val_loss: 0.0755\n",
      "Epoch 34/400\n",
      "80000/80000 [==============================] - 0s 5us/step - loss: 0.0752 - val_loss: 0.0738\n",
      "Epoch 35/400\n",
      "80000/80000 [==============================] - 0s 5us/step - loss: 0.0743 - val_loss: 0.0735\n",
      "Epoch 36/400\n",
      "80000/80000 [==============================] - 0s 5us/step - loss: 0.0736 - val_loss: 0.0724\n",
      "Epoch 37/400\n",
      "80000/80000 [==============================] - 0s 5us/step - loss: 0.0726 - val_loss: 0.0726\n",
      "Epoch 38/400\n",
      "80000/80000 [==============================] - 0s 5us/step - loss: 0.0720 - val_loss: 0.0705\n",
      "Epoch 39/400\n",
      "80000/80000 [==============================] - 0s 5us/step - loss: 0.0718 - val_loss: 0.0697\n",
      "Epoch 40/400\n",
      "80000/80000 [==============================] - 0s 5us/step - loss: 0.0709 - val_loss: 0.0693\n",
      "Epoch 41/400\n",
      "80000/80000 [==============================] - 0s 5us/step - loss: 0.0698 - val_loss: 0.0686\n",
      "Epoch 42/400\n",
      "80000/80000 [==============================] - 0s 5us/step - loss: 0.0694 - val_loss: 0.0686\n",
      "Epoch 43/400\n",
      "80000/80000 [==============================] - 0s 5us/step - loss: 0.0687 - val_loss: 0.0678\n",
      "Epoch 44/400\n",
      "80000/80000 [==============================] - 0s 5us/step - loss: 0.0681 - val_loss: 0.0663\n",
      "Epoch 45/400\n",
      "80000/80000 [==============================] - 0s 5us/step - loss: 0.0674 - val_loss: 0.0671\n",
      "Epoch 46/400\n",
      "80000/80000 [==============================] - 0s 5us/step - loss: 0.0670 - val_loss: 0.0647\n",
      "Epoch 47/400\n",
      "80000/80000 [==============================] - 0s 5us/step - loss: 0.0657 - val_loss: 0.0632\n",
      "Epoch 48/400\n",
      "80000/80000 [==============================] - 0s 5us/step - loss: 0.0650 - val_loss: 0.0632\n",
      "Epoch 49/400\n",
      "80000/80000 [==============================] - 0s 5us/step - loss: 0.0646 - val_loss: 0.0631\n",
      "Epoch 50/400\n",
      "80000/80000 [==============================] - 0s 5us/step - loss: 0.0645 - val_loss: 0.0632\n",
      "Epoch 51/400\n",
      "80000/80000 [==============================] - 0s 5us/step - loss: 0.0642 - val_loss: 0.0632\n",
      "Epoch 52/400\n",
      "80000/80000 [==============================] - 0s 5us/step - loss: 0.0631 - val_loss: 0.0619\n",
      "Epoch 53/400\n",
      "80000/80000 [==============================] - 0s 5us/step - loss: 0.0626 - val_loss: 0.0623\n",
      "Epoch 54/400\n",
      "80000/80000 [==============================] - 0s 5us/step - loss: 0.0620 - val_loss: 0.0621\n",
      "Epoch 55/400\n",
      "80000/80000 [==============================] - 0s 5us/step - loss: 0.0614 - val_loss: 0.0608\n",
      "Epoch 56/400\n",
      "80000/80000 [==============================] - 0s 5us/step - loss: 0.0603 - val_loss: 0.0602\n",
      "Epoch 57/400\n",
      "80000/80000 [==============================] - 0s 5us/step - loss: 0.0597 - val_loss: 0.0600\n",
      "Epoch 58/400\n",
      "80000/80000 [==============================] - 0s 5us/step - loss: 0.0593 - val_loss: 0.0570\n",
      "Epoch 59/400\n",
      "80000/80000 [==============================] - 0s 5us/step - loss: 0.0581 - val_loss: 0.0568\n",
      "Epoch 60/400\n",
      "80000/80000 [==============================] - 0s 5us/step - loss: 0.0569 - val_loss: 0.0557\n",
      "Epoch 61/400\n",
      "80000/80000 [==============================] - 0s 5us/step - loss: 0.0568 - val_loss: 0.0560\n",
      "Epoch 62/400\n",
      "80000/80000 [==============================] - 0s 5us/step - loss: 0.0561 - val_loss: 0.0547\n",
      "Epoch 63/400\n",
      "80000/80000 [==============================] - 0s 5us/step - loss: 0.0555 - val_loss: 0.0544\n",
      "Epoch 64/400\n",
      "80000/80000 [==============================] - 0s 5us/step - loss: 0.0549 - val_loss: 0.0539\n",
      "Epoch 65/400\n",
      "80000/80000 [==============================] - 0s 5us/step - loss: 0.0534 - val_loss: 0.0534\n",
      "Epoch 66/400\n",
      "80000/80000 [==============================] - 0s 5us/step - loss: 0.0530 - val_loss: 0.0523\n",
      "Epoch 67/400\n",
      "80000/80000 [==============================] - 0s 5us/step - loss: 0.0522 - val_loss: 0.0515\n",
      "Epoch 68/400\n",
      "80000/80000 [==============================] - 0s 5us/step - loss: 0.0515 - val_loss: 0.0507\n",
      "Epoch 69/400\n",
      "80000/80000 [==============================] - 0s 5us/step - loss: 0.0514 - val_loss: 0.0512\n",
      "Epoch 70/400\n",
      "80000/80000 [==============================] - 0s 5us/step - loss: 0.0511 - val_loss: 0.0498\n",
      "Epoch 71/400\n",
      "80000/80000 [==============================] - 0s 5us/step - loss: 0.0506 - val_loss: 0.0510\n",
      "Epoch 72/400\n",
      "80000/80000 [==============================] - 0s 5us/step - loss: 0.0502 - val_loss: 0.0491\n",
      "Epoch 73/400\n",
      "80000/80000 [==============================] - 0s 5us/step - loss: 0.0505 - val_loss: 0.0473\n",
      "Epoch 74/400\n",
      "80000/80000 [==============================] - 0s 5us/step - loss: 0.0483 - val_loss: 0.0467\n",
      "Epoch 75/400\n",
      "80000/80000 [==============================] - 0s 5us/step - loss: 0.0481 - val_loss: 0.0463\n",
      "Epoch 76/400\n",
      "80000/80000 [==============================] - 0s 5us/step - loss: 0.0477 - val_loss: 0.0474\n",
      "Epoch 77/400\n",
      "80000/80000 [==============================] - 0s 5us/step - loss: 0.0478 - val_loss: 0.0465\n"
     ]
    },
    {
     "name": "stdout",
     "output_type": "stream",
     "text": [
      "Epoch 78/400\n",
      "80000/80000 [==============================] - 0s 5us/step - loss: 0.0467 - val_loss: 0.0459\n",
      "Epoch 79/400\n",
      "80000/80000 [==============================] - 0s 5us/step - loss: 0.0472 - val_loss: 0.0456\n",
      "Epoch 80/400\n",
      "80000/80000 [==============================] - 0s 5us/step - loss: 0.0471 - val_loss: 0.0471\n",
      "Epoch 81/400\n",
      "80000/80000 [==============================] - 0s 5us/step - loss: 0.0460 - val_loss: 0.0452\n",
      "Epoch 82/400\n",
      "80000/80000 [==============================] - 0s 5us/step - loss: 0.0456 - val_loss: 0.0441\n",
      "Epoch 83/400\n",
      "80000/80000 [==============================] - 0s 5us/step - loss: 0.0451 - val_loss: 0.0447\n",
      "Epoch 84/400\n",
      "80000/80000 [==============================] - 0s 5us/step - loss: 0.0452 - val_loss: 0.0451\n",
      "Epoch 85/400\n",
      "80000/80000 [==============================] - 0s 5us/step - loss: 0.0455 - val_loss: 0.0443\n",
      "Epoch 86/400\n",
      "80000/80000 [==============================] - 0s 5us/step - loss: 0.0445 - val_loss: 0.0434\n",
      "Epoch 87/400\n",
      "80000/80000 [==============================] - 0s 5us/step - loss: 0.0447 - val_loss: 0.0444\n",
      "Epoch 88/400\n",
      "80000/80000 [==============================] - 0s 5us/step - loss: 0.0445 - val_loss: 0.0442\n",
      "Epoch 89/400\n",
      "80000/80000 [==============================] - 0s 5us/step - loss: 0.0436 - val_loss: 0.0436\n",
      "Epoch 90/400\n",
      "80000/80000 [==============================] - 0s 5us/step - loss: 0.0437 - val_loss: 0.0424\n",
      "Epoch 91/400\n",
      "80000/80000 [==============================] - 0s 5us/step - loss: 0.0433 - val_loss: 0.0422\n",
      "Epoch 92/400\n",
      "80000/80000 [==============================] - 0s 5us/step - loss: 0.0433 - val_loss: 0.0429\n",
      "Epoch 93/400\n",
      "80000/80000 [==============================] - 0s 5us/step - loss: 0.0434 - val_loss: 0.0430\n",
      "Epoch 94/400\n",
      "80000/80000 [==============================] - 0s 5us/step - loss: 0.0433 - val_loss: 0.0418\n",
      "Epoch 95/400\n",
      "80000/80000 [==============================] - 0s 5us/step - loss: 0.0427 - val_loss: 0.0424\n",
      "Epoch 96/400\n",
      "80000/80000 [==============================] - 0s 5us/step - loss: 0.0432 - val_loss: 0.0419\n",
      "Epoch 97/400\n",
      "80000/80000 [==============================] - 0s 5us/step - loss: 0.0422 - val_loss: 0.0418\n",
      "Epoch 98/400\n",
      "80000/80000 [==============================] - 0s 5us/step - loss: 0.0419 - val_loss: 0.0418\n",
      "Epoch 99/400\n",
      "80000/80000 [==============================] - 0s 5us/step - loss: 0.0424 - val_loss: 0.0419\n",
      "Epoch 100/400\n",
      "80000/80000 [==============================] - 0s 5us/step - loss: 0.0418 - val_loss: 0.0419\n",
      "Epoch 101/400\n",
      "80000/80000 [==============================] - 0s 5us/step - loss: 0.0423 - val_loss: 0.0409\n",
      "Epoch 102/400\n",
      "80000/80000 [==============================] - 0s 5us/step - loss: 0.0423 - val_loss: 0.0427\n",
      "Epoch 103/400\n",
      "80000/80000 [==============================] - 0s 5us/step - loss: 0.0416 - val_loss: 0.0420\n",
      "Epoch 104/400\n",
      "80000/80000 [==============================] - 0s 5us/step - loss: 0.0417 - val_loss: 0.0412\n",
      "Epoch 105/400\n",
      "80000/80000 [==============================] - 0s 5us/step - loss: 0.0415 - val_loss: 0.0409\n",
      "Epoch 106/400\n",
      "80000/80000 [==============================] - 0s 5us/step - loss: 0.0418 - val_loss: 0.0417\n",
      "Epoch 107/400\n",
      "80000/80000 [==============================] - 0s 5us/step - loss: 0.0414 - val_loss: 0.0439\n",
      "Epoch 108/400\n",
      "80000/80000 [==============================] - 0s 5us/step - loss: 0.0408 - val_loss: 0.0400\n",
      "Epoch 109/400\n",
      "80000/80000 [==============================] - 0s 5us/step - loss: 0.0402 - val_loss: 0.0397\n",
      "Epoch 110/400\n",
      "80000/80000 [==============================] - 0s 5us/step - loss: 0.0406 - val_loss: 0.0409\n",
      "Epoch 111/400\n",
      "80000/80000 [==============================] - 0s 5us/step - loss: 0.0414 - val_loss: 0.0411\n",
      "Epoch 112/400\n",
      "80000/80000 [==============================] - 0s 5us/step - loss: 0.0412 - val_loss: 0.0408\n",
      "Epoch 113/400\n",
      "80000/80000 [==============================] - 0s 5us/step - loss: 0.0410 - val_loss: 0.0418\n",
      "Epoch 114/400\n",
      "80000/80000 [==============================] - 0s 5us/step - loss: 0.0408 - val_loss: 0.0396\n",
      "Epoch 115/400\n",
      "80000/80000 [==============================] - 0s 5us/step - loss: 0.0402 - val_loss: 0.0388\n",
      "Epoch 116/400\n",
      "80000/80000 [==============================] - 0s 5us/step - loss: 0.0401 - val_loss: 0.0408\n",
      "Epoch 117/400\n",
      "80000/80000 [==============================] - 0s 5us/step - loss: 0.0403 - val_loss: 0.0398\n",
      "Epoch 118/400\n",
      "80000/80000 [==============================] - 0s 5us/step - loss: 0.0396 - val_loss: 0.0387\n",
      "Epoch 119/400\n",
      "80000/80000 [==============================] - 0s 5us/step - loss: 0.0391 - val_loss: 0.0380\n",
      "Epoch 120/400\n",
      "80000/80000 [==============================] - 0s 5us/step - loss: 0.0391 - val_loss: 0.0396\n",
      "Epoch 121/400\n",
      "80000/80000 [==============================] - 0s 5us/step - loss: 0.0392 - val_loss: 0.0400\n",
      "Epoch 122/400\n",
      "80000/80000 [==============================] - 0s 5us/step - loss: 0.0395 - val_loss: 0.0393\n",
      "Epoch 123/400\n",
      "80000/80000 [==============================] - 0s 5us/step - loss: 0.0388 - val_loss: 0.0381\n",
      "Epoch 124/400\n",
      "80000/80000 [==============================] - 0s 5us/step - loss: 0.0387 - val_loss: 0.0385\n",
      "Epoch 125/400\n",
      "80000/80000 [==============================] - 0s 5us/step - loss: 0.0385 - val_loss: 0.0380\n",
      "Epoch 126/400\n",
      "80000/80000 [==============================] - 0s 5us/step - loss: 0.0385 - val_loss: 0.0386\n",
      "Epoch 127/400\n",
      "80000/80000 [==============================] - 0s 5us/step - loss: 0.0383 - val_loss: 0.0376\n",
      "Epoch 128/400\n",
      "80000/80000 [==============================] - 0s 5us/step - loss: 0.0386 - val_loss: 0.0385\n",
      "Epoch 129/400\n",
      "80000/80000 [==============================] - 0s 5us/step - loss: 0.0391 - val_loss: 0.0383\n",
      "Epoch 130/400\n",
      "80000/80000 [==============================] - 0s 5us/step - loss: 0.0383 - val_loss: 0.0378\n",
      "Epoch 131/400\n",
      "80000/80000 [==============================] - 0s 5us/step - loss: 0.0396 - val_loss: 0.0383\n",
      "Epoch 132/400\n",
      "80000/80000 [==============================] - 0s 5us/step - loss: 0.0380 - val_loss: 0.0377\n",
      "Epoch 133/400\n",
      "80000/80000 [==============================] - 0s 5us/step - loss: 0.0387 - val_loss: 0.0374\n",
      "Epoch 134/400\n",
      "80000/80000 [==============================] - 0s 5us/step - loss: 0.0388 - val_loss: 0.0389\n",
      "Epoch 135/400\n",
      "80000/80000 [==============================] - 0s 5us/step - loss: 0.0383 - val_loss: 0.0379\n",
      "Epoch 136/400\n",
      "80000/80000 [==============================] - 0s 5us/step - loss: 0.0382 - val_loss: 0.0385\n",
      "Epoch 137/400\n",
      "80000/80000 [==============================] - 0s 5us/step - loss: 0.0380 - val_loss: 0.0372\n",
      "Epoch 138/400\n",
      "80000/80000 [==============================] - 0s 5us/step - loss: 0.0376 - val_loss: 0.0382\n",
      "Epoch 139/400\n",
      "80000/80000 [==============================] - 0s 5us/step - loss: 0.0383 - val_loss: 0.0403\n",
      "Epoch 140/400\n",
      "80000/80000 [==============================] - 0s 5us/step - loss: 0.0395 - val_loss: 0.0388\n",
      "Epoch 141/400\n",
      "80000/80000 [==============================] - 0s 5us/step - loss: 0.0384 - val_loss: 0.0381\n",
      "Epoch 142/400\n",
      "80000/80000 [==============================] - 0s 5us/step - loss: 0.0380 - val_loss: 0.0380\n",
      "Epoch 143/400\n",
      "80000/80000 [==============================] - 0s 5us/step - loss: 0.0375 - val_loss: 0.0372\n",
      "Epoch 144/400\n",
      "80000/80000 [==============================] - 0s 5us/step - loss: 0.0375 - val_loss: 0.0372\n",
      "Epoch 145/400\n",
      "80000/80000 [==============================] - 0s 5us/step - loss: 0.0381 - val_loss: 0.0387\n",
      "Epoch 146/400\n",
      "80000/80000 [==============================] - 0s 5us/step - loss: 0.0380 - val_loss: 0.0382\n",
      "Epoch 147/400\n",
      "80000/80000 [==============================] - 0s 5us/step - loss: 0.0385 - val_loss: 0.0391\n"
     ]
    }
   ],
   "source": [
    "hist = vae.fit(x_train, x_train,\n",
    "               shuffle=True,\n",
    "               epochs=epochs,\n",
    "               batch_size=batch_size,\n",
    "               validation_data=(x_val, x_val),\n",
    "               callbacks=my_callbacks)"
   ]
  },
  {
   "cell_type": "markdown",
   "metadata": {},
   "source": [
    "# Visualization"
   ]
  },
  {
   "cell_type": "code",
   "execution_count": 24,
   "metadata": {},
   "outputs": [],
   "source": [
    "import matplotlib.pyplot as plt"
   ]
  },
  {
   "cell_type": "code",
   "execution_count": 25,
   "metadata": {},
   "outputs": [
    {
     "data": {
      "image/png": "[encoded data removed]",
      "text/plain": [
       "<Figure size 432x266.991 with 1 Axes>"
      ]
     },
     "metadata": {
      "needs_background": "light"
     },
     "output_type": "display_data"
    }
   ],
   "source": [
    "golden_size = lambda width: (width, 2. * width / (1 + np.sqrt(5)))\n",
    "\n",
    "fig, ax = plt.subplots(figsize=golden_size(6))\n",
    "\n",
    "hist_df = pd.DataFrame(hist.history)\n",
    "hist_df.plot(ax=ax)\n",
    "\n",
    "ax.set_ylabel('NELBO')\n",
    "ax.set_xlabel('# epochs')\n",
    "\n",
    "ax.set_ylim(.99*hist_df[1:].values.min(), \n",
    "            1.1*hist_df[1:].values.max())\n",
    "plt.show()"
   ]
  },
  {
   "cell_type": "code",
   "execution_count": 26,
   "metadata": {},
   "outputs": [],
   "source": [
    "predictions = vae.predict(x_test)"
   ]
  },
  {
   "cell_type": "code",
   "execution_count": 27,
   "metadata": {},
   "outputs": [
    {
     "name": "stdout",
     "output_type": "stream",
     "text": [
      "tf.Tensor(0.046097085, shape=(), dtype=float32)\n"
     ]
    }
   ],
   "source": [
    "# mse on test set\n",
    "p = vae.predict(x_train)\n",
    "print(mse(p, x_train))"
   ]
  },
  {
   "cell_type": "code",
   "execution_count": 28,
   "metadata": {},
   "outputs": [],
   "source": [
    "distr = (x_test - predictions) / x_test"
   ]
  },
  {
   "cell_type": "code",
   "execution_count": 29,
   "metadata": {},
   "outputs": [],
   "source": [
    "px_pred = [row[0] for row in predictions]\n",
    "py_pred = [row[1] for row in predictions]\n",
    "pz_pred = [row[2] for row in predictions]\n",
    "e_pred = [row[3] for row in predictions]"
   ]
  },
  {
   "cell_type": "code",
   "execution_count": 30,
   "metadata": {},
   "outputs": [],
   "source": [
    "px = [row[0] for row in x_test]\n",
    "py = [row[1] for row in x_test]\n",
    "pz = [row[2] for row in x_test]\n",
    "e = [row[3] for row in x_test]"
   ]
  },
  {
   "cell_type": "markdown",
   "metadata": {},
   "source": [
    "## Stacking output (orange) over input (blue) for px, py, pz, E"
   ]
  },
  {
   "cell_type": "code",
   "execution_count": 31,
   "metadata": {},
   "outputs": [
    {
     "data": {
      "image/png": "[encoded data removed]",
      "text/plain": [
       "<Figure size 432x288 with 1 Axes>"
      ]
     },
     "metadata": {
      "needs_background": "light"
     },
     "output_type": "display_data"
    }
   ],
   "source": [
    "# px\n",
    "bins = np.linspace(-2, 2, 40)\n",
    "plt.hist(px, bins=bins,alpha=0.5)\n",
    "plt.hist(px_pred, bins=bins,alpha=0.5)\n",
    "plt.show()"
   ]
  },
  {
   "cell_type": "code",
   "execution_count": 32,
   "metadata": {},
   "outputs": [
    {
     "name": "stdout",
     "output_type": "stream",
     "text": [
      "tf.Tensor(0.02280436, shape=(), dtype=float32)\n"
     ]
    }
   ],
   "source": [
    "print(mse(px,px_pred))"
   ]
  },
  {
   "cell_type": "code",
   "execution_count": 33,
   "metadata": {},
   "outputs": [
    {
     "data": {
      "image/png": "[encoded data removed]",
      "text/plain": [
       "<Figure size 432x288 with 1 Axes>"
      ]
     },
     "metadata": {
      "needs_background": "light"
     },
     "output_type": "display_data"
    }
   ],
   "source": [
    "# py\n",
    "bins = np.linspace(-2, 2, 40)\n",
    "plt.hist(py, bins=bins,alpha=0.5)\n",
    "plt.hist(py_pred, bins=bins,alpha=0.5)\n",
    "plt.show()"
   ]
  },
  {
   "cell_type": "code",
   "execution_count": 34,
   "metadata": {},
   "outputs": [
    {
     "name": "stdout",
     "output_type": "stream",
     "text": [
      "tf.Tensor(0.060935628, shape=(), dtype=float32)\n"
     ]
    }
   ],
   "source": [
    "print(mse(py,py_pred))"
   ]
  },
  {
   "cell_type": "code",
   "execution_count": 35,
   "metadata": {},
   "outputs": [
    {
     "data": {
      "image/png": "[encoded data removed]",
      "text/plain": [
       "<Figure size 432x288 with 1 Axes>"
      ]
     },
     "metadata": {
      "needs_background": "light"
     },
     "output_type": "display_data"
    }
   ],
   "source": [
    "# pz\n",
    "bins = np.linspace(-3, 3, 40)\n",
    "plt.hist(pz, bins=bins,alpha=0.5)\n",
    "plt.hist(pz_pred, bins=bins,alpha=0.5)\n",
    "plt.show()"
   ]
  },
  {
   "cell_type": "code",
   "execution_count": 36,
   "metadata": {},
   "outputs": [
    {
     "name": "stdout",
     "output_type": "stream",
     "text": [
      "tf.Tensor(0.06749954, shape=(), dtype=float32)\n"
     ]
    }
   ],
   "source": [
    "print(mse(pz,pz_pred))"
   ]
  },
  {
   "cell_type": "code",
   "execution_count": 37,
   "metadata": {},
   "outputs": [
    {
     "data": {
      "image/png": "[encoded data removed]",
      "text/plain": [
       "<Figure size 432x288 with 1 Axes>"
      ]
     },
     "metadata": {
      "needs_background": "light"
     },
     "output_type": "display_data"
    }
   ],
   "source": [
    "# E\n",
    "bins = np.linspace(-2,4, 40)\n",
    "plt.hist(e, bins=bins,alpha=0.5)\n",
    "plt.hist(e_pred, bins=bins,alpha=0.5)\n",
    "plt.show()"
   ]
  },
  {
   "cell_type": "code",
   "execution_count": 38,
   "metadata": {},
   "outputs": [
    {
     "name": "stdout",
     "output_type": "stream",
     "text": [
      "tf.Tensor(0.02803489, shape=(), dtype=float32)\n"
     ]
    }
   ],
   "source": [
    "print(mse(e,e_pred))"
   ]
  },
  {
   "cell_type": "code",
   "execution_count": 39,
   "metadata": {},
   "outputs": [],
   "source": [
    "d_px = [row[0] for row in distr]\n",
    "d_py = [row[1] for row in distr]\n",
    "d_pz = [row[2] for row in distr]\n",
    "d_e = [row[3] for row in distr]"
   ]
  },
  {
   "cell_type": "markdown",
   "metadata": {},
   "source": [
    "## Distribution of (input - output) / input"
   ]
  },
  {
   "cell_type": "code",
   "execution_count": 40,
   "metadata": {},
   "outputs": [],
   "source": [
    "bins = np.linspace(-2, 2, 30)"
   ]
  },
  {
   "cell_type": "code",
   "execution_count": 41,
   "metadata": {},
   "outputs": [
    {
     "data": {
      "image/png": "[encoded data removed]",
      "text/plain": [
       "<Figure size 432x288 with 1 Axes>"
      ]
     },
     "metadata": {
      "needs_background": "light"
     },
     "output_type": "display_data"
    }
   ],
   "source": [
    "_ = plt.hist(d_px, bins=bins)"
   ]
  },
  {
   "cell_type": "code",
   "execution_count": 42,
   "metadata": {},
   "outputs": [
    {
     "data": {
      "image/png": "[encoded data removed]",
      "text/plain": [
       "<Figure size 432x288 with 1 Axes>"
      ]
     },
     "metadata": {
      "needs_background": "light"
     },
     "output_type": "display_data"
    }
   ],
   "source": [
    "_ = plt.hist(d_py, bins=bins)"
   ]
  },
  {
   "cell_type": "code",
   "execution_count": 43,
   "metadata": {},
   "outputs": [
    {
     "data": {
      "image/png": "[encoded data removed]",
      "text/plain": [
       "<Figure size 432x288 with 1 Axes>"
      ]
     },
     "metadata": {
      "needs_background": "light"
     },
     "output_type": "display_data"
    }
   ],
   "source": [
    "_ = plt.hist(d_pz, bins=bins)"
   ]
  },
  {
   "cell_type": "code",
   "execution_count": 44,
   "metadata": {},
   "outputs": [
    {
     "data": {
      "image/png": "[encoded data removed]",
      "text/plain": [
       "<Figure size 432x288 with 1 Axes>"
      ]
     },
     "metadata": {
      "needs_background": "light"
     },
     "output_type": "display_data"
    }
   ],
   "source": [
    "_ = plt.hist(d_e, bins=bins)"
   ]
  },
  {
   "cell_type": "markdown",
   "metadata": {},
   "source": [
    "# Anomaly Detection"
   ]
  },
  {
   "cell_type": "code",
   "execution_count": 45,
   "metadata": {},
   "outputs": [],
   "source": [
    "from sklearn.metrics import mean_squared_error\n",
    "from scipy.stats import wasserstein_distance"
   ]
  },
  {
   "cell_type": "code",
   "execution_count": 46,
   "metadata": {},
   "outputs": [],
   "source": [
    "# m_12 = sqrt ( (E_1 + E_2)^2 - (p_x1 + p_x2)^2 - (p_y1 + p_y2)^2 - (p_z1 + p_z2)^2 )\n",
    "def invariant_mass(jet1, jet2):\n",
    "    return math.sqrt((jet1.e + jet2.e)**2 - (jet1.px + jet2.px)**2 - (jet1.py + jet2.py)**2 - (jet1.pz + jet2.pz)**2)"
   ]
  },
  {
   "cell_type": "code",
   "execution_count": 47,
   "metadata": {},
   "outputs": [],
   "source": [
    "all_data = np.concatenate((x_train, x_val, x_test))\n",
    "all_pred = vae.predict(all_data)"
   ]
  },
  {
   "cell_type": "code",
   "execution_count": 48,
   "metadata": {},
   "outputs": [],
   "source": [
    "# get the iqr weighted mse of all predictions\n",
    "# errors = (iqr_prop[0] * np.square(all_data[:,0] - all_pred[:,0]) + iqr_prop[1] * np.square(all_data[:,1] - all_pred[:,1]) + iqr_prop[2] * np.square(all_data[:,2] - all_pred[:,2]) + iqr_prop[3] * np.square(all_data[:,3] - all_pred[:,3]))\n",
    "# alternatively get error based on emd\n",
    "errors = [wasserstein_distance(all_data[i], all_pred[i]) for i in range(len(all_data))]"
   ]
  },
  {
   "cell_type": "code",
   "execution_count": 49,
   "metadata": {},
   "outputs": [],
   "source": [
    "# all the inputs that had high mse\n",
    "data_df = loaded_data.copy()\n",
    "data_df.columns = ['px','py','pz','e','pt','eta','phi','mass','event']\n",
    "data_df[\"mse\"] = errors"
   ]
  },
  {
   "cell_type": "code",
   "execution_count": 50,
   "metadata": {},
   "outputs": [],
   "source": [
    "mass_mu = data_df.mass.mean()\n",
    "mass_sd = data_df.mass.std()"
   ]
  },
  {
   "cell_type": "code",
   "execution_count": 51,
   "metadata": {},
   "outputs": [],
   "source": [
    "cut = 0.997\n",
    "data_df[\"outlier\"] = 0\n",
    "\n",
    "# define the outliers by a cut on mse error\n",
    "mse_thresh = np.quantile(errors, cut)\n",
    "data_df.loc[data_df[\"mse\"] > mse_thresh, \"outlier\"] = 1\n",
    "outliers = data_df.loc[data_df.outlier == 1]"
   ]
  },
  {
   "cell_type": "code",
   "execution_count": 52,
   "metadata": {},
   "outputs": [],
   "source": [
    "# get the leading 2 jets from the original dataset if at least 1 was classified an outlier\n",
    "outlier_events = outliers.event.unique()\n",
    "outliers2 = loaded_data.loc[loaded_data.event.isin(outlier_events)]"
   ]
  },
  {
   "cell_type": "code",
   "execution_count": 53,
   "metadata": {
    "scrolled": true
   },
   "outputs": [],
   "source": [
    "# extract the mass of the outliers\n",
    "mass = []\n",
    "\n",
    "for event, group in outliers2.groupby(['event']):\n",
    "    pseudojets_input = np.zeros(len(group), dtype=DTYPE_PTEPM)\n",
    "\n",
    "    for i in range(len(group.pt.array)):\n",
    "        pseudojets_input[i]['pT'] = group.pt.array[i]\n",
    "        pseudojets_input[i]['eta'] = group.eta.array[i]\n",
    "        pseudojets_input[i]['phi'] = group.phi.array[i]\n",
    "\n",
    "    sequence = cluster(pseudojets_input, R=1.0, p=-1)\n",
    "    jets = sequence.inclusive_jets()\n",
    "\n",
    "    if(len(jets) >= 2):  # just take the invariant mass of the leading 2 jets\n",
    "        mass.append(invariant_mass(jets[0],jets[1]))"
   ]
  },
  {
   "cell_type": "code",
   "execution_count": 54,
   "metadata": {},
   "outputs": [],
   "source": [
    "# load in the precalculated invariant mass of all leading 2 jets for all events\n",
    "path = '/anomalyvol/data/jet_ver/bb1_jet_mass.h5'\n",
    "mgen = generator(path, chunk_size, total_size)\n",
    "all_mass = next(mgen)\n",
    "\n",
    "for i in range(total_size // chunk_size - 1):\n",
    "    all_mass.append(next(mgen))"
   ]
  },
  {
   "cell_type": "code",
   "execution_count": 55,
   "metadata": {},
   "outputs": [
    {
     "data": {
      "image/png": "[encoded data removed]",
      "text/plain": [
       "<Figure size 432x288 with 1 Axes>"
      ]
     },
     "metadata": {
      "needs_background": "light"
     },
     "output_type": "display_data"
    }
   ],
   "source": [
    "# plot invariant mass (orange = all, blue = outliers)\n",
    "weights = np.ones_like(mass) / len(mass)\n",
    "plt.hist(mass, bins=np.linspace(1000,6000, 61), alpha = 0.5, weights=weights)\n",
    "weights = np.ones_like(all_mass) / len(all_mass)\n",
    "plt.hist(all_mass.mass, bins=np.linspace(1000,6000, 61), alpha = 0.5, weights=weights)\n",
    "plt.show()"
   ]
  }
 ],
 "metadata": {
  "kernelspec": {
   "display_name": "Python 3",
   "language": "python",
   "name": "python3"
  },
  "language_info": {
   "codemirror_mode": {
    "name": "ipython",
    "version": 3
   },
   "file_extension": ".py",
   "mimetype": "text/x-python",
   "name": "python",
   "nbconvert_exporter": "python",
   "pygments_lexer": "ipython3",
   "version": "3.7.6"
  }
 },
 "nbformat": 4,
 "nbformat_minor": 4
}
