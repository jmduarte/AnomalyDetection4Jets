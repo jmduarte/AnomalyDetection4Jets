{
 "cells": [
  {
   "cell_type": "code",
   "execution_count": 1,
   "metadata": {},
   "outputs": [],
   "source": [
    "import pandas as pd\n",
    "import numpy as np\n",
    "from pyjet import cluster,DTYPE_PTEPM\n",
    "import math\n",
    "import h5py\n",
    "import matplotlib.pyplot as plt"
   ]
  },
  {
   "cell_type": "code",
   "execution_count": 2,
   "metadata": {},
   "outputs": [],
   "source": [
    "# m_12 = sqrt ( (E_1 + E_2)^2 - (p_x1 + p_x2)^2 - (p_y1 + p_y2)^2 - (p_z1 + p_z2)^2 )\n",
    "def invariant_mass(jet1, jet2):\n",
    "    return math.sqrt((jet1.e + jet2.e)**2 - (jet1.px + jet2.px)**2 - (jet1.py + jet2.py)**2 - (jet1.pz + jet2.pz)**2)"
   ]
  },
  {
   "cell_type": "code",
   "execution_count": 3,
   "metadata": {},
   "outputs": [],
   "source": [
    "path = '/anomalyvol/data/jet_ver/bb1_jet_mass.h5'"
   ]
  },
  {
   "cell_type": "code",
   "execution_count": 4,
   "metadata": {},
   "outputs": [],
   "source": [
    "chunk_size = 100000\n",
    "total_size = 1000000 # 1 mil max\n",
    "\n",
    "def generator(path, chunk_size=10000,total_size=1000000):\n",
    "    i = 0\n",
    "    \n",
    "    while True:\n",
    "        yield pd.read_hdf(path,start=i*chunk_size, stop=(i+1)*chunk_size)\n",
    "        \n",
    "        i+=1\n",
    "        if (i+1)*chunk_size > total_size:\n",
    "            i=0\n",
    "\n",
    "gen = generator(path, chunk_size, total_size)"
   ]
  },
  {
   "cell_type": "code",
   "execution_count": 5,
   "metadata": {},
   "outputs": [
    {
     "data": {
      "text/html": [
       "<div>\n",
       "<style scoped>\n",
       "    .dataframe tbody tr th:only-of-type {\n",
       "        vertical-align: middle;\n",
       "    }\n",
       "\n",
       "    .dataframe tbody tr th {\n",
       "        vertical-align: top;\n",
       "    }\n",
       "\n",
       "    .dataframe thead th {\n",
       "        text-align: right;\n",
       "    }\n",
       "</style>\n",
       "<table border=\"1\" class=\"dataframe\">\n",
       "  <thead>\n",
       "    <tr style=\"text-align: right;\">\n",
       "      <th></th>\n",
       "      <th>mass</th>\n",
       "    </tr>\n",
       "  </thead>\n",
       "  <tbody>\n",
       "    <tr>\n",
       "      <th>0</th>\n",
       "      <td>3157.841212</td>\n",
       "    </tr>\n",
       "    <tr>\n",
       "      <th>1</th>\n",
       "      <td>2488.262160</td>\n",
       "    </tr>\n",
       "    <tr>\n",
       "      <th>2</th>\n",
       "      <td>3499.867409</td>\n",
       "    </tr>\n",
       "    <tr>\n",
       "      <th>3</th>\n",
       "      <td>2729.477504</td>\n",
       "    </tr>\n",
       "    <tr>\n",
       "      <th>4</th>\n",
       "      <td>2513.728451</td>\n",
       "    </tr>\n",
       "    <tr>\n",
       "      <th>...</th>\n",
       "      <td>...</td>\n",
       "    </tr>\n",
       "    <tr>\n",
       "      <th>99995</th>\n",
       "      <td>2793.668164</td>\n",
       "    </tr>\n",
       "    <tr>\n",
       "      <th>99996</th>\n",
       "      <td>2949.037392</td>\n",
       "    </tr>\n",
       "    <tr>\n",
       "      <th>99997</th>\n",
       "      <td>2434.859286</td>\n",
       "    </tr>\n",
       "    <tr>\n",
       "      <th>99998</th>\n",
       "      <td>4568.112669</td>\n",
       "    </tr>\n",
       "    <tr>\n",
       "      <th>99999</th>\n",
       "      <td>2396.651931</td>\n",
       "    </tr>\n",
       "  </tbody>\n",
       "</table>\n",
       "<p>100000 rows × 1 columns</p>\n",
       "</div>"
      ],
      "text/plain": [
       "              mass\n",
       "0      3157.841212\n",
       "1      2488.262160\n",
       "2      3499.867409\n",
       "3      2729.477504\n",
       "4      2513.728451\n",
       "...            ...\n",
       "99995  2793.668164\n",
       "99996  2949.037392\n",
       "99997  2434.859286\n",
       "99998  4568.112669\n",
       "99999  2396.651931\n",
       "\n",
       "[100000 rows x 1 columns]"
      ]
     },
     "execution_count": 5,
     "metadata": {},
     "output_type": "execute_result"
    }
   ],
   "source": [
    "# fully load in pandas dataframe\n",
    "data = next(gen)\n",
    "\n",
    "for i in range(total_size // chunk_size - 1):\n",
    "    data.append(next(gen))\n",
    "\n",
    "data"
   ]
  },
  {
   "cell_type": "code",
   "execution_count": 6,
   "metadata": {},
   "outputs": [],
   "source": [
    "loaded_data = data\n",
    "# data = loaded_data"
   ]
  },
  {
   "cell_type": "code",
   "execution_count": 27,
   "metadata": {},
   "outputs": [
    {
     "data": {
      "text/plain": [
       "array([   0.        ,  101.26582278,  202.53164557,  303.79746835,\n",
       "        405.06329114,  506.32911392,  607.59493671,  708.86075949,\n",
       "        810.12658228,  911.39240506, 1012.65822785, 1113.92405063,\n",
       "       1215.18987342, 1316.4556962 , 1417.72151899, 1518.98734177,\n",
       "       1620.25316456, 1721.51898734, 1822.78481013, 1924.05063291,\n",
       "       2025.3164557 , 2126.58227848, 2227.84810127, 2329.11392405,\n",
       "       2430.37974684, 2531.64556962, 2632.91139241, 2734.17721519,\n",
       "       2835.44303797, 2936.70886076, 3037.97468354, 3139.24050633,\n",
       "       3240.50632911, 3341.7721519 , 3443.03797468, 3544.30379747,\n",
       "       3645.56962025, 3746.83544304, 3848.10126582, 3949.36708861,\n",
       "       4050.63291139, 4151.89873418, 4253.16455696, 4354.43037975,\n",
       "       4455.69620253, 4556.96202532, 4658.2278481 , 4759.49367089,\n",
       "       4860.75949367, 4962.02531646, 5063.29113924, 5164.55696203,\n",
       "       5265.82278481, 5367.08860759, 5468.35443038, 5569.62025316,\n",
       "       5670.88607595, 5772.15189873, 5873.41772152, 5974.6835443 ,\n",
       "       6075.94936709, 6177.21518987, 6278.48101266, 6379.74683544,\n",
       "       6481.01265823, 6582.27848101, 6683.5443038 , 6784.81012658,\n",
       "       6886.07594937, 6987.34177215, 7088.60759494, 7189.87341772,\n",
       "       7291.13924051, 7392.40506329, 7493.67088608, 7594.93670886,\n",
       "       7696.20253165, 7797.46835443, 7898.73417722, 8000.        ])"
      ]
     },
     "execution_count": 27,
     "metadata": {},
     "output_type": "execute_result"
    },
    {
     "data": {
      "image/png": "[encoded data removed]",
      "text/plain": [
       "<Figure size 432x288 with 1 Axes>"
      ]
     },
     "metadata": {
      "needs_background": "light"
     },
     "output_type": "display_data"
    }
   ],
   "source": [
    "n, bins, patches = plt.hist(data.mass, bins=np.linspace(0,8000,80))\n",
    "bins"
   ]
  },
  {
   "cell_type": "code",
   "execution_count": 30,
   "metadata": {
    "scrolled": true
   },
   "outputs": [
    {
     "data": {
      "image/png": "[encoded data removed]",
      "text/plain": [
       "<Figure size 432x288 with 1 Axes>"
      ]
     },
     "metadata": {
      "needs_background": "light"
     },
     "output_type": "display_data"
    }
   ],
   "source": [
    "n, bins, patches = plt.hist(data.mass, bins=np.linspace(3600,4000,80))\n",
    "patches[np.where((bins>=3822) & (bins <= 3823))[0][0]].set_fc('r')\n",
    "plt.show()"
   ]
  }
 ],
 "metadata": {
  "kernelspec": {
   "display_name": "Python 3",
   "language": "python",
   "name": "python3"
  },
  "language_info": {
   "codemirror_mode": {
    "name": "ipython",
    "version": 3
   },
   "file_extension": ".py",
   "mimetype": "text/x-python",
   "name": "python",
   "nbconvert_exporter": "python",
   "pygments_lexer": "ipython3",
   "version": "3.7.6"
  }
 },
 "nbformat": 4,
 "nbformat_minor": 4
}
